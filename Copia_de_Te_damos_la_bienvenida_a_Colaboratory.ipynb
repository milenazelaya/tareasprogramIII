{
  "cells": [
    {
      "cell_type": "markdown",
      "metadata": {
        "id": "view-in-github",
        "colab_type": "text"
      },
      "source": [
        "<a href=\"https://colab.research.google.com/github/milenazelaya/tareasprogramIII/blob/main/Copia_de_Te_damos_la_bienvenida_a_Colaboratory.ipynb\" target=\"_parent\"><img src=\"https://colab.research.google.com/assets/colab-badge.svg\" alt=\"Open In Colab\"/></a>"
      ]
    },
    {
      "cell_type": "code",
      "source": [
        "c= 27 "
      ],
      "metadata": {
        "id": "pe5oUQmnkWrW"
      },
      "execution_count": null,
      "outputs": []
    },
    {
      "cell_type": "code",
      "source": [
        "def converCaF(c):\n",
        "  return c*9/5  + 32"
      ],
      "metadata": {
        "id": "Jikhu5o0ma2K"
      },
      "execution_count": null,
      "outputs": []
    },
    {
      "cell_type": "code",
      "source": [
        "print(\"Celsius a F:\", converCaF(c))"
      ],
      "metadata": {
        "colab": {
          "base_uri": "https://localhost:8080/"
        },
        "id": "JVWEiticoCTn",
        "outputId": "12de2c98-11ff-41d1-d0bb-abf5d69f0e56"
      },
      "execution_count": null,
      "outputs": [
        {
          "output_type": "stream",
          "name": "stdout",
          "text": [
            "Celsius a F: 80.6\n"
          ]
        }
      ]
    },
    {
      "cell_type": "code",
      "source": [
        "gradosCiudades = [27, 30, 32, 35, 40, 45]"
      ],
      "metadata": {
        "id": "ioG6K8YdphMb"
      },
      "execution_count": null,
      "outputs": []
    },
    {
      "cell_type": "code",
      "source": [
        "print (gradosCiudades, \"respuesta\", list (map (converCaF, gradosCiudades)))"
      ],
      "metadata": {
        "colab": {
          "base_uri": "https://localhost:8080/"
        },
        "id": "PC6_8JhXqEHS",
        "outputId": "6b9da68e-5e49-4617-e25c-1cee22592c40"
      },
      "execution_count": null,
      "outputs": [
        {
          "output_type": "stream",
          "name": "stdout",
          "text": [
            "[27, 30, 32, 35, 40, 45] respuesta [80.6, 86.0, 89.6, 95.0, 104.0, 113.0]\n"
          ]
        }
      ]
    },
    {
      "cell_type": "code",
      "source": [
        "gradoCiudad = [80.6, 86.0, 89.6, 95.0, 104.0, 113.0]\n",
        "def converFaC (e):\n",
        "  return (e-32) * 5/9\n",
        "print(\"respuesta:\", list(map(converFaC, gradoCiudad)))\n"
      ],
      "metadata": {
        "colab": {
          "base_uri": "https://localhost:8080/"
        },
        "id": "J-cUAMtyrGig",
        "outputId": "006eadd5-172b-47ea-8284-929435a45372"
      },
      "execution_count": null,
      "outputs": [
        {
          "output_type": "stream",
          "name": "stdout",
          "text": [
            "respuesta: [26.999999999999996, 30.0, 32.0, 35.0, 40.0, 45.0]\n"
          ]
        }
      ]
    },
    {
      "cell_type": "code",
      "source": [
        "Gradociudad = [80.6, 86.0, 89.6, 95.0, 104.0, 113.0]\n",
        "\n",
        "print (\"respuesta\", list (map(lambda c: (c-32) * 5/9, Gradociudad)))\n"
      ],
      "metadata": {
        "colab": {
          "base_uri": "https://localhost:8080/"
        },
        "id": "DMxY8PsjwKxn",
        "outputId": "b211cc6c-31de-4b44-b602-573d9853e785"
      },
      "execution_count": null,
      "outputs": [
        {
          "output_type": "stream",
          "name": "stdout",
          "text": [
            "respuesta [26.999999999999996, 30.0, 32.0, 35.0, 40.0, 45.0]\n"
          ]
        }
      ]
    },
    {
      "cell_type": "markdown",
      "source": [
        "Tarea Hacer un algoritmo en python que convierta de grados Celsius a Kelvin y viceversa, usando funciones de usuario y lambda."
      ],
      "metadata": {
        "id": "joYVc_Xis0mM"
      }
    },
    {
      "cell_type": "code",
      "source": [
        "C = float(input(\"Ingrese los grados Celsius para convertir a kelvin:\"))\n",
        "def Cak(C):\n",
        "  Resultado = C + 273.15\n",
        "  return Resultado\n",
        "print(Cak(C))"
      ],
      "metadata": {
        "id": "knHAMUc01UTV",
        "colab": {
          "base_uri": "https://localhost:8080/"
        },
        "outputId": "9879e042-64b9-4072-8c40-7cf87e2df216"
      },
      "execution_count": null,
      "outputs": [
        {
          "output_type": "stream",
          "name": "stdout",
          "text": [
            "Ingrese los grados Celsius para convertir a kelvin:27\n",
            "300.15\n"
          ]
        }
      ]
    },
    {
      "cell_type": "markdown",
      "source": [
        "Celsius a kelvin usando lambda y funciones de usuario"
      ],
      "metadata": {
        "id": "sNLf_pjB1ddF"
      }
    },
    {
      "cell_type": "markdown",
      "source": [
        "kelvin a celcius"
      ],
      "metadata": {
        "id": "MgwBQCW3fNUD"
      }
    },
    {
      "cell_type": "code",
      "source": [
        "gradoC= [25, 88, 25, 30]"
      ],
      "metadata": {
        "id": "Ngv9hPDqdF9p"
      },
      "execution_count": null,
      "outputs": []
    },
    {
      "cell_type": "code",
      "source": [
        "def convertirCaK(celsius):\n",
        "  return celsius+273.15"
      ],
      "metadata": {
        "id": "JJhdTr1fdNRe"
      },
      "execution_count": null,
      "outputs": []
    },
    {
      "cell_type": "code",
      "source": [
        "  print(gradoC, \"Respuesta:\", list(map(lambda celsius: celsius+273.15, gradoC)))"
      ],
      "metadata": {
        "colab": {
          "base_uri": "https://localhost:8080/"
        },
        "id": "7Bb-jpafdRqQ",
        "outputId": "b85b260e-0134-4a70-a681-a55d19a2e274"
      },
      "execution_count": null,
      "outputs": [
        {
          "output_type": "stream",
          "name": "stdout",
          "text": [
            "[25, 88, 25, 30] Respuesta: [298.15, 361.15, 298.15, 303.15]\n"
          ]
        }
      ]
    },
    {
      "cell_type": "markdown",
      "source": [
        "celsius a kelvin"
      ],
      "metadata": {
        "id": "sQgugoeVfJ-S"
      }
    },
    {
      "cell_type": "code",
      "source": [
        "gradok=[298.15, 361.15, 298.15, 303.15]"
      ],
      "metadata": {
        "id": "e-KSLXS-eEK0"
      },
      "execution_count": null,
      "outputs": []
    },
    {
      "cell_type": "code",
      "source": [
        "def convertirKaC(kel):\n",
        "  return kel-273.15"
      ],
      "metadata": {
        "id": "AB0o33ZAeN-g"
      },
      "execution_count": null,
      "outputs": []
    },
    {
      "cell_type": "code",
      "source": [
        "print (gradok, \"Respuesta\", list (map(lambda kel: kel-273.15, gradok)))"
      ],
      "metadata": {
        "colab": {
          "base_uri": "https://localhost:8080/"
        },
        "id": "ZOWv52Y-eagY",
        "outputId": "3e34ccfe-724a-41e4-d384-ba32a64ad932"
      },
      "execution_count": null,
      "outputs": [
        {
          "output_type": "stream",
          "name": "stdout",
          "text": [
            "[298.15, 361.15, 298.15, 303.15] Respuesta [25.0, 88.0, 25.0, 30.0]\n"
          ]
        }
      ]
    },
    {
      "cell_type": "markdown",
      "source": [
        "Hacer un algoritmo en python que encuentre la Nota Final de Ciclo de una Materia en Particular usando funciones de usuario y lambda."
      ],
      "metadata": {
        "id": "_JR8aqdXo6b9"
      }
    },
    {
      "cell_type": "code",
      "source": [
        "def calcularNota(n1, n2, n3, n4, n5, n6, n7, n8, n9):\n",
        "  return (n1*0.3) + (n2*0.3) + (n3*0.3)  + (n4*0.3)  + (n5*0.3) + (n6*0.3)  + (n7*0.3)  + (n8*0.3)  + (n9*0.3) \n",
        "  n1 = float(input(\"ingrese la nota\"))\n",
        "  n2 = float(input(\"ingrese la nota\"))\n",
        "  n3 = float(input(\"ingrese la nota\"))\n",
        "  n4 = float(input(\"ingrese la nota\"))\n",
        "  n5 = float(input(\"ingrese la nota\"))\n",
        "  n6 = float(input(\"ingrese la nota\"))\n",
        "  n7 = float(input(\"ingrese la nota\"))\n",
        "  n8 = float(input(\"ingrese la nota\"))\n",
        "  n9 = float(input(\"ingrese la nota\"))\n",
        "\n",
        "  print (calcularNota, \"nota final\", list (map(lambda calcularNota: calcularNota  )))\n"
      ],
      "metadata": {
        "id": "CwLTya2Qo8oL"
      },
      "execution_count": null,
      "outputs": []
    },
    {
      "cell_type": "code",
      "source": [
        "edad = int(input(\"Digite su edad\"))\n",
        "if(edad<=2):\n",
        "  print(\"Eres un bb\")\n",
        "elif(edad<12):\n",
        "  print(\"eres un niño\")\n",
        "elif(edad<18):\n",
        "  print(\"eres un adolecente\")\n",
        "elif(edad<55):\n",
        "  print(\"eres un adulto joven\")ad\n",
        "print(\"termino\")"
      ],
      "metadata": {
        "colab": {
          "base_uri": "https://localhost:8080/"
        },
        "id": "w7-gjlMtqEAS",
        "outputId": "630313fb-8518-4bb2-c42c-9cb0b66984cc"
      },
      "execution_count": null,
      "outputs": [
        {
          "output_type": "stream",
          "name": "stdout",
          "text": [
            "Digite su edad20\n",
            "termino\n"
          ]
        }
      ]
    },
    {
      "cell_type": "code",
      "source": [
        "nt= int(input)"
      ],
      "metadata": {
        "id": "t2YN6RQdxigC"
      },
      "execution_count": null,
      "outputs": []
    },
    {
      "cell_type": "code",
      "source": [
        "metros_c= int( input(\"ingrese la cantidad de metros consumidos:\"))\n",
        "def mcc(a):\n",
        "  if o<=18: \n",
        "    print(\"El valor a pagar segun los metros consumidos es de: seis dolares\")\n",
        "  elif o<=28:\n",
        "    exce= float(a-18) \n",
        "    m= exce*0.45\n",
        "    total0=m+6.00\n",
        "    print(\"El valor a pagar segun los metros consumidos es de: \", total0)\n",
        "  else:\n",
        "    exce= float(a-28)\n",
        "    p= exces*0.65\n",
        "    total1=p+10.5\n",
        "    print(\"El valor a pagar los metros consumidos es de:\", total1)\n",
        "\n",
        "print(mc(metros_consumidos))\n"
      ],
      "metadata": {
        "id": "hNxekZVokTUK"
      },
      "execution_count": null,
      "outputs": []
    }
  ],
  "metadata": {
    "colab": {
      "collapsed_sections": [],
      "name": "Copia de Te damos la bienvenida a Colaboratory",
      "provenance": [],
      "include_colab_link": true
    },
    "kernelspec": {
      "display_name": "Python 3",
      "name": "python3"
    }
  },
  "nbformat": 4,
  "nbformat_minor": 0
}