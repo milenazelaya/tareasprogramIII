{
  "cells": [
    {
      "cell_type": "markdown",
      "metadata": {
        "id": "view-in-github",
        "colab_type": "text"
      },
      "source": [
        "<a href=\"https://colab.research.google.com/github/milenazelaya/tareasprogramIII/blob/main/ejercicio_2.ipynb\" target=\"_parent\"><img src=\"https://colab.research.google.com/assets/colab-badge.svg\" alt=\"Open In Colab\"/></a>"
      ]
    },
    {
      "cell_type": "code",
      "source": [
        "metros_consumidos= int( input(\"ingrese la cantidad de metros consumidos:\"))\n",
        "def mc(a):\n",
        "  if a<=18: \n",
        "    print(\"El valor a pagar segun los metros consumidos es de: $6.00\")\n",
        "  elif a<=28:\n",
        "    excesom= float(a-18) \n",
        "    m= excesom*0.45\n",
        "    total=m+6.00\n",
        "    print(\"El valor a pagar segun los metros consumidos es de: \", total)\n",
        "  else:\n",
        "    exce= float(a-28)\n",
        "    c= exce*0.65\n",
        "    total1=c+10.5\n",
        "    print(\"El valor a pagar los metros consumidos es de:\", total1)\n",
        "\n",
        "print(mc(metros_consumidos))\n"
      ],
      "metadata": {
        "id": "gwYIL5wui0Zx"
      },
      "execution_count": null,
      "outputs": []
    }
  ],
  "metadata": {
    "colab": {
      "collapsed_sections": [],
      "name": "ejercicio 2",
      "toc_visible": true,
      "provenance": [],
      "include_colab_link": true
    },
    "kernelspec": {
      "display_name": "Python 3",
      "name": "python3"
    }
  },
  "nbformat": 4,
  "nbformat_minor": 0
}