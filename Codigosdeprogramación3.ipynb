{
  "nbformat": 4,
  "nbformat_minor": 0,
  "metadata": {
    "colab": {
      "name": "Codigosdeprogramación3.ipynb",
      "provenance": [],
      "include_colab_link": true
    },
    "kernelspec": {
      "name": "python3",
      "display_name": "Python 3"
    },
    "language_info": {
      "name": "python"
    }
  },
  "cells": [
    {
      "cell_type": "markdown",
      "metadata": {
        "id": "view-in-github",
        "colab_type": "text"
      },
      "source": [
        "<a href=\"https://colab.research.google.com/github/milenazelaya/tareasprogramIII/blob/main/Codigosdeprogramaci%C3%B3n3.ipynb\" target=\"_parent\"><img src=\"https://colab.research.google.com/assets/colab-badge.svg\" alt=\"Open In Colab\"/></a>"
      ]
    },
    {
      "cell_type": "code",
      "execution_count": null,
      "metadata": {
        "colab": {
          "base_uri": "https://localhost:8080/"
        },
        "id": "428xb_WhLa3L",
        "outputId": "9080fa34-3600-41b0-9e6c-bf14cb775c90"
      },
      "outputs": [
        {
          "output_type": "stream",
          "name": "stdout",
          "text": [
            "hola Mundo Bienvenidos a Programacion Computacional III, con Python\n",
            "Mi nombre es:  Katterin Campos\n"
          ]
        }
      ],
      "source": [
        "print(\"hola Mundo\", \"Bienvenidos a Programacion Computacional III, con Python\")\n",
        "print(\"Mi nombre es: \", \"Milena zelaya\")"
      ]
    },
    {
      "cell_type": "code",
      "source": [
        "nombre = \"Milena Zelaya\"\n",
        "print(\"Hola \", nombre, type(nombre))\n",
        "\n",
        "nombre = 25\n",
        "print(\"Tu edad es: \", nombre + 2, type(nombre))"
      ],
      "metadata": {
        "colab": {
          "base_uri": "https://localhost:8080/"
        },
        "id": "DyKL8CbiL4uo",
        "outputId": "c495fc69-c7db-4dde-ca41-f17f63d530ad"
      },
      "execution_count": null,
      "outputs": [
        {
          "output_type": "stream",
          "name": "stdout",
          "text": [
            "Hola  Katterin Campos <class 'str'>\n",
            "Tu edad es:  27 <class 'int'>\n"
          ]
        }
      ]
    },
    {
      "cell_type": "code",
      "source": [
        "nombre = \"Milena Zelaya\"\n",
        "print(\"Tu nombre es: \", nombre, \"Longitud de tu Nombre: \", len(nombre), \"Iniciales: \", nombre[0],nombre[5])"
      ],
      "metadata": {
        "colab": {
          "base_uri": "https://localhost:8080/"
        },
        "id": "p8hcVp9-MIzB",
        "outputId": "57006876-670c-4f88-d432-d301784ca388"
      },
      "execution_count": null,
      "outputs": [
        {
          "output_type": "stream",
          "name": "stdout",
          "text": [
            "Tu nombre es:  Katterin campos Longitud de tu Nombre:  15 Iniciales:  K r\n"
          ]
        }
      ]
    },
    {
      "cell_type": "code",
      "source": [
        "num1 = 5\n",
        "num2 = 4.6\n",
        "resp = num1 + num2\n",
        "print(\"La suma de num1: \", num1 , \" + num2: \", num2, \"es igual a: \", resp)"
      ],
      "metadata": {
        "colab": {
          "base_uri": "https://localhost:8080/"
        },
        "id": "4Zn1RHvqMW_I",
        "outputId": "98e8611b-f7ba-429b-9c3c-7fcbc456de7d"
      },
      "execution_count": null,
      "outputs": [
        {
          "output_type": "stream",
          "name": "stdout",
          "text": [
            "La suma de num1:  5  + num2:  4.6 es igual a:  9.6\n"
          ]
        }
      ]
    },
    {
      "cell_type": "code",
      "source": [
        "num1 = 6\n",
        "num2 = 2\n",
        "resp = num1 - num2\n",
        "print(\"la resta  de num1: \" , num1 , \"- num2: \", num2, \"es igual a: \", resp)"
      ],
      "metadata": {
        "colab": {
          "base_uri": "https://localhost:8080/"
        },
        "id": "uX36hdyoNayM",
        "outputId": "2eb7cfab-a48a-4df0-9f71-61a30bb1db23"
      },
      "execution_count": null,
      "outputs": [
        {
          "output_type": "stream",
          "name": "stdout",
          "text": [
            "la resta  de num1:  6 - num2:  2 es igual a:  4\n"
          ]
        }
      ]
    },
    {
      "cell_type": "code",
      "source": [
        "num1 = int (input(\"ingrese un numero entero: \"))\n",
        "num2 = int (input(\"ingrese un numero entero: \"))\n",
        "resp = num1 * num2\n",
        "print(\"multiplicacion\", resp)"
      ],
      "metadata": {
        "colab": {
          "base_uri": "https://localhost:8080/"
        },
        "id": "dyR2wgk_N1Dj",
        "outputId": "9449ba3c-2d37-4394-ee65-fee8b99958ea"
      },
      "execution_count": null,
      "outputs": [
        {
          "output_type": "stream",
          "name": "stdout",
          "text": [
            "ingrese un numero entero: 6\n",
            "ingrese un numero entero: 2\n",
            "multiplicacion 12\n"
          ]
        }
      ]
    },
    {
      "cell_type": "code",
      "source": [
        "num1 = float(input(\"Ingrese un numero entero: \"))\n",
        "num2 = float(input(\"Ingrese otro Num decimal: \"))\n",
        "resp = num1 + num2\n",
        "print(\"Suma\", resp, type(resp))"
      ],
      "metadata": {
        "colab": {
          "base_uri": "https://localhost:8080/"
        },
        "id": "wB-YLOOfM-vM",
        "outputId": "01a3b3c1-da14-412f-f2bd-30626e18f34b"
      },
      "execution_count": null,
      "outputs": [
        {
          "output_type": "stream",
          "name": "stdout",
          "text": [
            "Ingrese un numero entero: 5\n",
            "Ingrese otro Num decimal: 4.6\n",
            "Suma 9.6 <class 'float'>\n"
          ]
        }
      ]
    },
    {
      "cell_type": "code",
      "source": [
        "nombre = input(\"dime tu nombre: \")\n",
        "print(nombre, type(nombre), len(nombre))\n",
        "print(nombre[0])\n",
        "print(nombre[1])\n",
        "print(nombre[2])\n",
        "print(nombre[3])\n"
      ],
      "metadata": {
        "id": "DvMWGBR9ODmY"
      },
      "execution_count": null,
      "outputs": []
    },
    {
      "cell_type": "code",
      "source": [
        "resp = 4 + 4 * 6 / 2 + 1\n",
        "print(resp)"
      ],
      "metadata": {
        "colab": {
          "base_uri": "https://localhost:8080/"
        },
        "id": "IPzpJ36hOLEI",
        "outputId": "167e6fa8-9944-4cbd-cdd9-f11bf4d9d091"
      },
      "execution_count": null,
      "outputs": [
        {
          "output_type": "stream",
          "name": "stdout",
          "text": [
            "17.0\n"
          ]
        }
      ]
    },
    {
      "cell_type": "code",
      "source": [
        "gustaProgrmacion = False\n",
        "print(\"Te gusta programar: \", gustaProgrmacion)\n",
        "\n",
        "gustaDiseño = True\n",
        "print(\"Te gusta diseñar: \", gustaDiseño)"
      ],
      "metadata": {
        "colab": {
          "base_uri": "https://localhost:8080/"
        },
        "id": "HNfkXqZoOOPd",
        "outputId": "cc5e381f-3c60-4bb7-cabb-74a2845d0b05"
      },
      "execution_count": null,
      "outputs": [
        {
          "output_type": "stream",
          "name": "stdout",
          "text": [
            "Te gusta programar:  False\n",
            "Te gusta diseñar:  True\n"
          ]
        }
      ]
    },
    {
      "cell_type": "code",
      "source": [
        "def suma(num1, num2):\n",
        "  return num1 + num2\n",
        "print(\"La suma de 5 + 7 = \", suma(5,7))"
      ],
      "metadata": {
        "colab": {
          "base_uri": "https://localhost:8080/"
        },
        "id": "NZROpGB2OeIJ",
        "outputId": "7d48dbe2-153a-4b57-f3db-536c74b12ef4"
      },
      "execution_count": null,
      "outputs": [
        {
          "output_type": "stream",
          "name": "stdout",
          "text": [
            "La suma de 5 + 7 =  12\n"
          ]
        }
      ]
    },
    {
      "cell_type": "code",
      "source": [
        "def suma(num1, num2):\n",
        "  return num1 + num2\n",
        "num1 =int (input(\"Ingrese un numero entero: \"))\n",
        "num2 = int(input(\"Ingrerse otro Numero : \"))\n",
        "resp = num1 + num2\n",
        "print(\"suma\", resp)"
      ],
      "metadata": {
        "colab": {
          "base_uri": "https://localhost:8080/"
        },
        "id": "mXVQp3OUOiHg",
        "outputId": "d56c9e79-9271-4773-ac51-2f5fe32d0fc4"
      },
      "execution_count": null,
      "outputs": [
        {
          "output_type": "stream",
          "name": "stdout",
          "text": [
            "Ingrese un numero entero: 2\n",
            "Ingrerse otro Numero : 2\n",
            "suma 4\n"
          ]
        }
      ]
    },
    {
      "cell_type": "code",
      "source": [
        "suma = lambda num1,num2: num1 + num2"
      ],
      "metadata": {
        "id": "5J5SAC2pO3rR"
      },
      "execution_count": null,
      "outputs": []
    },
    {
      "cell_type": "code",
      "source": [
        "num1 = float(input(\"Num1: \"))\n",
        "num2 = float(input(\"Num2: \"))\n",
        "print( \"La respuesta es: \", suma(num1, num2))"
      ],
      "metadata": {
        "colab": {
          "base_uri": "https://localhost:8080/"
        },
        "id": "S7bAsWB_Pgoq",
        "outputId": "064d0f40-e337-4577-cd03-58048d68f572"
      },
      "execution_count": null,
      "outputs": [
        {
          "output_type": "stream",
          "name": "stdout",
          "text": [
            "Num1: 5\n",
            "Num2: 4.6\n",
            "La respuesta es:  9.6\n"
          ]
        }
      ]
    },
    {
      "cell_type": "code",
      "source": [
        "lista = [2,7,8,6,9]"
      ],
      "metadata": {
        "id": "dzjCeQQ_PtN2"
      },
      "execution_count": null,
      "outputs": []
    },
    {
      "cell_type": "code",
      "source": [
        "cuadrado = lambda num: num**2"
      ],
      "metadata": {
        "id": "6hnUe0RrPuhV"
      },
      "execution_count": null,
      "outputs": []
    },
    {
      "cell_type": "code",
      "source": [
        "print( type(cuadrado) )"
      ],
      "metadata": {
        "colab": {
          "base_uri": "https://localhost:8080/"
        },
        "id": "rxNx5uWZP8Q6",
        "outputId": "d46f2e5c-2dee-4714-9430-885c42ddd4c6"
      },
      "execution_count": null,
      "outputs": [
        {
          "output_type": "stream",
          "name": "stdout",
          "text": [
            "<class 'function'>\n"
          ]
        }
      ]
    },
    {
      "cell_type": "code",
      "source": [
        "cubo  = lambda num: num**3"
      ],
      "metadata": {
        "id": "E_YZUNniQBfm"
      },
      "execution_count": null,
      "outputs": []
    },
    {
      "cell_type": "code",
      "source": [
        "potencia = lambda num, n: num**n"
      ],
      "metadata": {
        "id": "hnCCwz44QFj5"
      },
      "execution_count": null,
      "outputs": []
    },
    {
      "cell_type": "code",
      "source": [
        "print(\"Lista: \", lista, \" al cuadrado: \", list( map(cuadrado, lista) ), \" al cubo: \", list(map(cubo, lista)) )"
      ],
      "metadata": {
        "colab": {
          "base_uri": "https://localhost:8080/"
        },
        "id": "ZT4wfeVZQJSB",
        "outputId": "0616e13a-6b98-45eb-cbbe-307bf0831901"
      },
      "execution_count": null,
      "outputs": [
        {
          "output_type": "stream",
          "name": "stdout",
          "text": [
            "Lista:  [2, 7, 8, 6, 9]  al cuadrado:  [4, 49, 64, 36, 81]  al cubo:  [8, 343, 512, 216, 729]\n"
          ]
        }
      ]
    },
    {
      "cell_type": "code",
      "source": [
        "print( \"2 al cubo es: \", potencia(4, 5) )"
      ],
      "metadata": {
        "colab": {
          "base_uri": "https://localhost:8080/"
        },
        "id": "brC1D455QOMJ",
        "outputId": "fa8f609d-4fdf-4dbf-b6c7-43186cba0a0b"
      },
      "execution_count": null,
      "outputs": [
        {
          "output_type": "stream",
          "name": "stdout",
          "text": [
            "2 al cubo es:  1024\n"
          ]
        }
      ]
    },
    {
      "cell_type": "code",
      "source": [
        "print(\"Lista Original: \", lista, \" al cubo: \", list(map(lambda num: num**3, lista)) )"
      ],
      "metadata": {
        "colab": {
          "base_uri": "https://localhost:8080/"
        },
        "id": "GW6oQJiIQS1d",
        "outputId": "c86db8e7-a5ed-4788-88e8-f9735b8684e5"
      },
      "execution_count": null,
      "outputs": [
        {
          "output_type": "stream",
          "name": "stdout",
          "text": [
            "Lista Original:  [2, 7, 8, 6, 9]  al cubo:  [8, 343, 512, 216, 729]\n"
          ]
        }
      ]
    },
    {
      "cell_type": "code",
      "source": [
        "fpares = lambda num: num%2==0 # %=> Modulo=> devuelve el residuo de una division 5/2 = 1=>residuo"
      ],
      "metadata": {
        "id": "JAeeB00_Qkz3"
      },
      "execution_count": null,
      "outputs": []
    },
    {
      "cell_type": "code",
      "source": [
        "fimpares = lambda num: num%2!=0"
      ],
      "metadata": {
        "id": "8m1GjAIAQrTh"
      },
      "execution_count": null,
      "outputs": []
    },
    {
      "cell_type": "code",
      "source": [
        "print(\"Lista original: \", lista, \" solo pares: \", list(filter(fpares, lista)), \" los impares: \", list(filter(fimpares, lista)) )"
      ],
      "metadata": {
        "colab": {
          "base_uri": "https://localhost:8080/"
        },
        "id": "5VBNBWcKQsjg",
        "outputId": "70ba0f62-51b5-468b-f011-d6f31a4b988b"
      },
      "execution_count": null,
      "outputs": [
        {
          "output_type": "stream",
          "name": "stdout",
          "text": [
            "Lista original:  [2, 7, 8, 6, 9]  solo pares:  [2, 8, 6]  los impares:  [7, 9]\n"
          ]
        }
      ]
    },
    {
      "cell_type": "code",
      "source": [
        "suma = lambda a,b: a+b"
      ],
      "metadata": {
        "id": "cX7vehyeQw8v"
      },
      "execution_count": null,
      "outputs": []
    },
    {
      "cell_type": "code",
      "source": [
        "#import functools"
      ],
      "metadata": {
        "id": "CY52R8uEQ4VX"
      },
      "execution_count": null,
      "outputs": []
    },
    {
      "cell_type": "code",
      "source": [
        "import functools\n",
        "print(\"Lista original: \", lista, \"la suma: \", functools.reduce(suma, lista), \" media Aritmetica: \", functools.reduce(suma, lista)/len(lista) )"
      ],
      "metadata": {
        "colab": {
          "base_uri": "https://localhost:8080/"
        },
        "id": "mkDtntPyQ8P1",
        "outputId": "620594c5-85b5-495e-fcc9-8a9dffc3b7f2"
      },
      "execution_count": null,
      "outputs": [
        {
          "output_type": "stream",
          "name": "stdout",
          "text": [
            "Lista original:  [2, 7, 8, 6, 9] la suma:  32  media Aritmetica:  6.4\n"
          ]
        }
      ]
    },
    {
      "cell_type": "code",
      "source": [
        "c= 27"
      ],
      "metadata": {
        "id": "egC5SuY9RB29"
      },
      "execution_count": null,
      "outputs": []
    },
    {
      "cell_type": "code",
      "source": [
        "def convertirCaF(c):\n",
        "  return c*9/5 + 32"
      ],
      "metadata": {
        "id": "AKlJ9It-RcW7"
      },
      "execution_count": null,
      "outputs": []
    },
    {
      "cell_type": "code",
      "source": [
        "print(\"Celsius a F: \", convertirCaF(c))"
      ],
      "metadata": {
        "colab": {
          "base_uri": "https://localhost:8080/"
        },
        "id": "nqXpHqTURfhJ",
        "outputId": "351c0fbf-2dd8-4ee6-e051-25a99efea3aa"
      },
      "execution_count": null,
      "outputs": [
        {
          "output_type": "stream",
          "name": "stdout",
          "text": [
            "Celsius a F:  80.6\n"
          ]
        }
      ]
    },
    {
      "cell_type": "code",
      "source": [
        "gradosCiudades = [27, 30, 32, 35, 40, 45]"
      ],
      "metadata": {
        "id": "JJxsUA39RuCD"
      },
      "execution_count": null,
      "outputs": []
    },
    {
      "cell_type": "code",
      "source": [
        "print(gradosCiudades, \"Respuesta: \", list(map(convertirCaF, gradosCiudades)) )"
      ],
      "metadata": {
        "colab": {
          "base_uri": "https://localhost:8080/"
        },
        "id": "qd-lGBJbRvt8",
        "outputId": "f39e155f-7bb0-4786-ec7f-d45734d46d26"
      },
      "execution_count": null,
      "outputs": [
        {
          "output_type": "stream",
          "name": "stdout",
          "text": [
            "[27, 30, 32, 35, 40, 45] Respuesta:  [80.6, 86.0, 89.6, 95.0, 104.0, 113.0]\n"
          ]
        }
      ]
    },
    {
      "cell_type": "code",
      "source": [
        "gradosf = [80.6, 86, 89.6, 95, 104, 113]"
      ],
      "metadata": {
        "id": "ETQT8o-CRztI"
      },
      "execution_count": null,
      "outputs": []
    },
    {
      "cell_type": "code",
      "source": [
        "def convertirFaC(f):\n",
        "  return (f-32) * 5/9"
      ],
      "metadata": {
        "id": "ERyIePrsR33s"
      },
      "execution_count": null,
      "outputs": []
    },
    {
      "cell_type": "code",
      "source": [
        "print(gradosf, \" Respuesta: \", list(map(convertirFaC, gradosf)) )"
      ],
      "metadata": {
        "colab": {
          "base_uri": "https://localhost:8080/"
        },
        "id": "qpFzyJO9R7yT",
        "outputId": "9e6f5597-0b16-4f96-c6b9-0d6189bcf71d"
      },
      "execution_count": null,
      "outputs": [
        {
          "output_type": "stream",
          "name": "stdout",
          "text": [
            "[80.6, 86, 89.6, 95, 104, 113]  Respuesta:  [26.999999999999996, 30.0, 32.0, 35.0, 40.0, 45.0]\n"
          ]
        }
      ]
    },
    {
      "cell_type": "code",
      "source": [
        "print(gradosf, \" Respuesta: \", list(map(lambda f: (f-32)*5/9, gradosf)) )"
      ],
      "metadata": {
        "colab": {
          "base_uri": "https://localhost:8080/"
        },
        "id": "04NibfxSSAAT",
        "outputId": "7594e2f9-7639-4b6b-9885-3cefb7c5cd99"
      },
      "execution_count": null,
      "outputs": [
        {
          "output_type": "stream",
          "name": "stdout",
          "text": [
            "[80.6, 86, 89.6, 95, 104, 113]  Respuesta:  [26.999999999999996, 30.0, 32.0, 35.0, 40.0, 45.0]\n"
          ]
        }
      ]
    },
    {
      "cell_type": "markdown",
      "source": [
        "TAREA: Hacer un algoritmo en python que convierta de grados Celsius a Kelvin, usando funciones de usuario "
      ],
      "metadata": {
        "id": "JffXyg2US-8_"
      }
    },
    {
      "cell_type": "code",
      "source": [
        "cel = float(input(\"INGRESE LOS GRADOS CELSIUS PARA CONVERTILOS EN GRADOS KELVIN: \"))"
      ],
      "metadata": {
        "colab": {
          "base_uri": "https://localhost:8080/"
        },
        "id": "ILDLmecMTDL7",
        "outputId": "5775b664-dbb3-41a7-e5b3-f575ce167e37"
      },
      "execution_count": null,
      "outputs": [
        {
          "name": "stdout",
          "output_type": "stream",
          "text": [
            "INGRESE LOS GRADOS CELSIUS PARA CONVERTILOS EN GRADOS KELVIN: 30\n"
          ]
        }
      ]
    },
    {
      "cell_type": "code",
      "source": [
        "def CaK(cel):\n",
        "  resultado= cel+273.15 \n",
        "  return resultado"
      ],
      "metadata": {
        "id": "1Hdmm27fTSLw"
      },
      "execution_count": null,
      "outputs": []
    },
    {
      "cell_type": "code",
      "source": [
        "print(CaK(cel))"
      ],
      "metadata": {
        "colab": {
          "base_uri": "https://localhost:8080/"
        },
        "id": "scLUcLMwTWTr",
        "outputId": "1773dc37-bad2-46fe-f511-1aa2fd7d652e"
      },
      "execution_count": null,
      "outputs": [
        {
          "output_type": "stream",
          "name": "stdout",
          "text": [
            "303.15\n"
          ]
        }
      ]
    },
    {
      "cell_type": "markdown",
      "source": [
        "Hacer un algoritmo en python que convierta de grados Kelvin a Celsius, usando funciones de usuario"
      ],
      "metadata": {
        "id": "5apz_kIjTmsY"
      }
    },
    {
      "cell_type": "code",
      "source": [
        "kel = float(input(\"INGRESE LOS GRADOS KELVIN PARA CONVERTILOS EN GRADOS CELSIUS: \"))"
      ],
      "metadata": {
        "colab": {
          "base_uri": "https://localhost:8080/"
        },
        "id": "yPZY5ju1U7rl",
        "outputId": "93832afa-06bc-4b84-a59b-d29aed89cde9"
      },
      "execution_count": null,
      "outputs": [
        {
          "name": "stdout",
          "output_type": "stream",
          "text": [
            "INGRESE LOS GRADOS KELVIN PARA CONVERTILOS EN GRADOS CELSIUS: 303.15\n"
          ]
        }
      ]
    },
    {
      "cell_type": "code",
      "source": [
        "def KaC(kel):\n",
        "  resultado= kel-273.15 \n",
        "  return resultado"
      ],
      "metadata": {
        "id": "Hg1CqRrSU8dO"
      },
      "execution_count": null,
      "outputs": []
    },
    {
      "cell_type": "code",
      "source": [
        "print(KaC(kel))"
      ],
      "metadata": {
        "colab": {
          "base_uri": "https://localhost:8080/"
        },
        "id": "_moa7HOIVAQd",
        "outputId": "9ce89495-af39-4957-b9dc-b46539c2bbcb"
      },
      "execution_count": null,
      "outputs": [
        {
          "output_type": "stream",
          "name": "stdout",
          "text": [
            "30.0\n"
          ]
        }
      ]
    },
    {
      "cell_type": "markdown",
      "source": [
        "Hacer un algoritmo en python que convierta de grados Celsius a Kelvin, usando lambda"
      ],
      "metadata": {
        "id": "XU4qoVUSVv02"
      }
    },
    {
      "cell_type": "code",
      "source": [
        "conversionCaK = lambda cel: cel+273.15"
      ],
      "metadata": {
        "id": "rrjsRYObVzdX"
      },
      "execution_count": null,
      "outputs": []
    },
    {
      "cell_type": "code",
      "source": [
        "Gcelsius=float(input(\"INGRESE LOS GRADOS CELSIUS PARA REALIZAR LA CONVERSION A GRADOS KELVIN: \"))"
      ],
      "metadata": {
        "colab": {
          "base_uri": "https://localhost:8080/"
        },
        "id": "r8fiMqWwV4fP",
        "outputId": "f48f2e25-3545-4651-a632-8bc30d206a9c"
      },
      "execution_count": null,
      "outputs": [
        {
          "name": "stdout",
          "output_type": "stream",
          "text": [
            "INGRESE LOS GRADOS CELSIUS PARA REALIZAR LA CONVERSION A GRADOS KELVIN: 30\n"
          ]
        }
      ]
    },
    {
      "cell_type": "code",
      "source": [
        "print(conversionCaK(Gcelsius))"
      ],
      "metadata": {
        "colab": {
          "base_uri": "https://localhost:8080/"
        },
        "id": "s-GX1bMVV_zl",
        "outputId": "34b057e8-b122-4b3d-d6bd-d00386c816cf"
      },
      "execution_count": null,
      "outputs": [
        {
          "output_type": "stream",
          "name": "stdout",
          "text": [
            "303.15\n"
          ]
        }
      ]
    },
    {
      "cell_type": "markdown",
      "source": [
        "Hacer un algoritmo en python que convierta de grados Kelvin a Celsius, usando lambda"
      ],
      "metadata": {
        "id": "danvR5oxWTrK"
      }
    },
    {
      "cell_type": "code",
      "source": [
        "conversionKaC = lambda kelvin: kelvin-273.15"
      ],
      "metadata": {
        "id": "sRfzFLsbWq6q"
      },
      "execution_count": null,
      "outputs": []
    },
    {
      "cell_type": "code",
      "source": [
        "Gkelvin=float(input(\"INGRESE LOS GRADOS KELVIN PARA REALIZAR LA CONVERSION A GRADOS CELSIUS: \"))"
      ],
      "metadata": {
        "colab": {
          "base_uri": "https://localhost:8080/"
        },
        "id": "bsgCpg1uWVvP",
        "outputId": "777fd81e-30ff-4bd4-87fb-bfbf8869cbbc"
      },
      "execution_count": null,
      "outputs": [
        {
          "name": "stdout",
          "output_type": "stream",
          "text": [
            "INGRESE LOS GRADOS KELVIN PARA REALIZAR LA CONVERSION A GRADOS CELSIUS: 303.15\n"
          ]
        }
      ]
    },
    {
      "cell_type": "code",
      "source": [
        "print(conversionKaC(Gkelvin))"
      ],
      "metadata": {
        "colab": {
          "base_uri": "https://localhost:8080/"
        },
        "id": "TuPmV7dmWsUf",
        "outputId": "00f71875-a1e2-4714-f609-a50f667f1ce4"
      },
      "execution_count": null,
      "outputs": [
        {
          "output_type": "stream",
          "name": "stdout",
          "text": [
            "30.0\n"
          ]
        }
      ]
    },
    {
      "cell_type": "markdown",
      "source": [
        "Hacer un algoritmo en python que encuentre la Nota Final de Ciclo de una Materia en Particular usando funciones de usuario "
      ],
      "metadata": {
        "id": "A0ECa9EDW9lZ"
      }
    },
    {
      "cell_type": "code",
      "source": [
        "print(\"Ingrese sus notas del computo1\")"
      ],
      "metadata": {
        "colab": {
          "base_uri": "https://localhost:8080/"
        },
        "id": "WOoSTOk4W_aL",
        "outputId": "2e9145ef-7bad-46e0-ca0c-b74b0f6ea9fa"
      },
      "execution_count": null,
      "outputs": [
        {
          "output_type": "stream",
          "name": "stdout",
          "text": [
            "Ingrese sus notas del computo1\n"
          ]
        }
      ]
    },
    {
      "cell_type": "code",
      "source": [
        "lab1comp1=float(input())"
      ],
      "metadata": {
        "colab": {
          "base_uri": "https://localhost:8080/"
        },
        "id": "cN4MjakIXLRs",
        "outputId": "14a299c8-8226-45dc-b089-3d0609fe6dd1"
      },
      "execution_count": null,
      "outputs": [
        {
          "name": "stdout",
          "output_type": "stream",
          "text": [
            "10\n"
          ]
        }
      ]
    },
    {
      "cell_type": "code",
      "source": [
        "lab2comp1=float(input())"
      ],
      "metadata": {
        "colab": {
          "base_uri": "https://localhost:8080/"
        },
        "id": "JQQtBozDXPQK",
        "outputId": "99e47efb-ae89-45f7-b37c-4b07ca6a70e0"
      },
      "execution_count": null,
      "outputs": [
        {
          "name": "stdout",
          "output_type": "stream",
          "text": [
            "10\n"
          ]
        }
      ]
    },
    {
      "cell_type": "code",
      "source": [
        "parcialcomp1=float(input())"
      ],
      "metadata": {
        "colab": {
          "base_uri": "https://localhost:8080/"
        },
        "id": "f63HkHFqXWFG",
        "outputId": "dd562148-86c3-404b-e034-55b587dffaa7"
      },
      "execution_count": null,
      "outputs": [
        {
          "name": "stdout",
          "output_type": "stream",
          "text": [
            "9.5\n"
          ]
        }
      ]
    },
    {
      "cell_type": "code",
      "source": [
        "print(\"Ingrese sus notas del computo2\")"
      ],
      "metadata": {
        "colab": {
          "base_uri": "https://localhost:8080/"
        },
        "id": "isY3dUwnXfU_",
        "outputId": "fa9765d3-aa9d-4dda-8798-7875dea3fc37"
      },
      "execution_count": null,
      "outputs": [
        {
          "output_type": "stream",
          "name": "stdout",
          "text": [
            "Ingrese sus notas del computo2\n"
          ]
        }
      ]
    },
    {
      "cell_type": "code",
      "source": [
        "lab1comp2=float(input())"
      ],
      "metadata": {
        "colab": {
          "base_uri": "https://localhost:8080/"
        },
        "id": "R1S1Ii8ZXkUq",
        "outputId": "cf674501-23c8-4256-df3e-3d685f7d2b95"
      },
      "execution_count": null,
      "outputs": [
        {
          "name": "stdout",
          "output_type": "stream",
          "text": [
            "10\n"
          ]
        }
      ]
    },
    {
      "cell_type": "code",
      "source": [
        "lab2comp2=float(input())"
      ],
      "metadata": {
        "colab": {
          "base_uri": "https://localhost:8080/"
        },
        "id": "d3NeTDtTYVh_",
        "outputId": "e6f7b61d-5164-4cae-a190-88a1fa9fbdd9"
      },
      "execution_count": null,
      "outputs": [
        {
          "name": "stdout",
          "output_type": "stream",
          "text": [
            "9.8\n"
          ]
        }
      ]
    },
    {
      "cell_type": "code",
      "source": [
        "parcialcomp2=float(input())"
      ],
      "metadata": {
        "colab": {
          "base_uri": "https://localhost:8080/"
        },
        "id": "_7OY0lKgYanO",
        "outputId": "073e2010-7980-43ba-9028-01a12b501f03"
      },
      "execution_count": null,
      "outputs": [
        {
          "name": "stdout",
          "output_type": "stream",
          "text": [
            "9.5\n"
          ]
        }
      ]
    },
    {
      "cell_type": "code",
      "source": [
        "print(\"Ingrese sus notas del computo3\")"
      ],
      "metadata": {
        "colab": {
          "base_uri": "https://localhost:8080/"
        },
        "id": "BuIzEPKXYodu",
        "outputId": "ad5de3b8-b885-472e-a2cb-93dd5658acf8"
      },
      "execution_count": null,
      "outputs": [
        {
          "output_type": "stream",
          "name": "stdout",
          "text": [
            "Ingrese sus notas del computo3\n"
          ]
        }
      ]
    },
    {
      "cell_type": "code",
      "source": [
        "lab1comp3=float(input())"
      ],
      "metadata": {
        "colab": {
          "base_uri": "https://localhost:8080/"
        },
        "id": "WgfTc5hYYuwx",
        "outputId": "9582ea1d-664a-47b0-8d62-fff25c48665b"
      },
      "execution_count": null,
      "outputs": [
        {
          "name": "stdout",
          "output_type": "stream",
          "text": [
            "10\n"
          ]
        }
      ]
    },
    {
      "cell_type": "code",
      "source": [
        "lab2comp3=float(input())"
      ],
      "metadata": {
        "colab": {
          "base_uri": "https://localhost:8080/"
        },
        "id": "wReNZhvhYzEv",
        "outputId": "3e46a304-1765-49fe-c020-7009f8385f3e"
      },
      "execution_count": null,
      "outputs": [
        {
          "name": "stdout",
          "output_type": "stream",
          "text": [
            "10\n"
          ]
        }
      ]
    },
    {
      "cell_type": "code",
      "source": [
        "parcialcomp3=float(input())"
      ],
      "metadata": {
        "colab": {
          "base_uri": "https://localhost:8080/"
        },
        "id": "RNvGAvq3Y1Or",
        "outputId": "fbf7c608-9661-4894-944f-1582307a123d"
      },
      "execution_count": null,
      "outputs": [
        {
          "name": "stdout",
          "output_type": "stream",
          "text": [
            "10\n"
          ]
        }
      ]
    },
    {
      "cell_type": "code",
      "source": [
        "def notas(a,b,c):\n",
        "  total=(a * 0.3) + ( b * 0.3 )+( c * 0.4)\n",
        "  return total"
      ],
      "metadata": {
        "id": "RNfH9EnqZJ0t"
      },
      "execution_count": null,
      "outputs": []
    },
    {
      "cell_type": "code",
      "source": [
        "computo1=notas(lab1comp1,lab2comp1,parcialcomp1)"
      ],
      "metadata": {
        "id": "AKPYVoNmZM_G"
      },
      "execution_count": null,
      "outputs": []
    },
    {
      "cell_type": "code",
      "source": [
        "computo2=notas(lab1comp2,lab2comp2,parcialcomp2)"
      ],
      "metadata": {
        "id": "UuMrf2eeZPvo"
      },
      "execution_count": null,
      "outputs": []
    },
    {
      "cell_type": "code",
      "source": [
        "computo3=notas(lab1comp3,lab2comp3,parcialcomp3)"
      ],
      "metadata": {
        "id": "U76rnPsDZS_Y"
      },
      "execution_count": null,
      "outputs": []
    },
    {
      "cell_type": "code",
      "source": [
        "notaFinal= (computo1 + computo2 + computo3) /3"
      ],
      "metadata": {
        "id": "-ZO9GJptZWxp"
      },
      "execution_count": null,
      "outputs": []
    },
    {
      "cell_type": "code",
      "source": [
        "print(notaFinal)"
      ],
      "metadata": {
        "colab": {
          "base_uri": "https://localhost:8080/"
        },
        "id": "kkW0dzbnZZSz",
        "outputId": "66b68908-9fc8-47f8-e65a-fc54835ef1f5"
      },
      "execution_count": null,
      "outputs": [
        {
          "output_type": "stream",
          "name": "stdout",
          "text": [
            "9.846666666666666\n"
          ]
        }
      ]
    },
    {
      "cell_type": "markdown",
      "source": [
        "Hacer un algoritmo en python que encuentre la Nota Final de Ciclo de una Materia en Particular usando  lambda."
      ],
      "metadata": {
        "id": "isboduJhaBQ1"
      }
    },
    {
      "cell_type": "code",
      "source": [
        "edades = (2,5,12,18,65,100) #La tupl es inmutable, es decir, no podemos cambiar su valor y se declara con parenteis pero se usa con corchetes\n",
        "print( edades, \"La edad de bebe es la mejor: \", edades[0] )\n",
        "\n",
        "#edades[0] = 1, es inmutable, no se puede modificar"
      ],
      "metadata": {
        "colab": {
          "base_uri": "https://localhost:8080/"
        },
        "id": "5X6sBdjlaC1g",
        "outputId": "369f5451-e952-4a3b-a6f5-0dc980eaa926"
      },
      "execution_count": null,
      "outputs": [
        {
          "output_type": "stream",
          "name": "stdout",
          "text": [
            "(2, 5, 12, 18, 65, 100) La edad de bebe es la mejor:  2\n"
          ]
        }
      ]
    },
    {
      "cell_type": "code",
      "source": [
        "print(\"Edades: \", edades, \"Responsabilidades: \", tuple( filter(lambda e:e>=18, edades) ) )\n",
        "print(\"Edades: \", edades, \" Al cuadrado: \", tuple(map(lambda n:n**2, edades)) )"
      ],
      "metadata": {
        "colab": {
          "base_uri": "https://localhost:8080/"
        },
        "id": "HK0V_A8zazUV",
        "outputId": "ea81533a-7ead-438f-96ee-845860d7e372"
      },
      "execution_count": null,
      "outputs": [
        {
          "output_type": "stream",
          "name": "stdout",
          "text": [
            "Edades:  (2, 5, 12, 18, 65, 100) Responsabilidades:  (18, 65, 100)\n",
            "Edades:  (2, 5, 12, 18, 65, 100)  Al cuadrado:  (4, 25, 144, 324, 4225, 10000)\n"
          ]
        }
      ]
    },
    {
      "cell_type": "code",
      "source": [
        "notas = [6,8,10] #Listas, son mutables, es decir, podemos cambiar sus valores y se declaran y usan con corchetes\n",
        "print(\"Notas Originales: \", notas)\n",
        "\n",
        "notas[0] = 9\n",
        "print(\"Notas: \", notas)"
      ],
      "metadata": {
        "colab": {
          "base_uri": "https://localhost:8080/"
        },
        "id": "sZrAthEQa3Bk",
        "outputId": "08f59da1-3005-4531-b316-07613f2b7ee0"
      },
      "execution_count": null,
      "outputs": [
        {
          "output_type": "stream",
          "name": "stdout",
          "text": [
            "Notas Originales:  [6, 8, 10]\n",
            "Notas:  [9, 8, 10]\n"
          ]
        }
      ]
    },
    {
      "cell_type": "code",
      "source": [
        "notasProgra = [\n",
        "    [9,8,10], #C1\n",
        "    [10,6,9], #C2\n",
        "    [10,9,10] #C3\n",
        "]\n",
        "print(notasProgra)"
      ],
      "metadata": {
        "colab": {
          "base_uri": "https://localhost:8080/"
        },
        "id": "yvHA45hBa74o",
        "outputId": "cda6423a-2ea0-462c-9256-10e43387968b"
      },
      "execution_count": null,
      "outputs": [
        {
          "output_type": "stream",
          "name": "stdout",
          "text": [
            "[[9, 8, 10], [10, 6, 9], [10, 9, 10]]\n"
          ]
        }
      ]
    },
    {
      "cell_type": "code",
      "source": [
        "print(\"Lab2 de C1\", notasProgra[0][1] )"
      ],
      "metadata": {
        "colab": {
          "base_uri": "https://localhost:8080/"
        },
        "id": "Z2vsKQb0bAWY",
        "outputId": "d4962f7b-1322-4c89-871d-10c82cb3fb5c"
      },
      "execution_count": null,
      "outputs": [
        {
          "output_type": "stream",
          "name": "stdout",
          "text": [
            "Lab2 de C1 8\n"
          ]
        }
      ]
    },
    {
      "cell_type": "code",
      "source": [
        "notas = [\n",
        "    [ #Progra III\n",
        "      [9,8,[8,9]], #C1\n",
        "      [10,6,9], #C2\n",
        "      [10,9,10] #C3\n",
        "    ], \n",
        "    [ #Estadistica\n",
        "      [5,7,10], #C1\n",
        "      [9,8,9],  #C2\n",
        "      [10,10,10]#C3\n",
        "    ],\n",
        "    [ #BD\n",
        "      [7,8,9],  #C1\n",
        "      [9,8,7],  #C2\n",
        "      [10,9,10],#C3\n",
        "    ], \n",
        "    [ #Ingles\n",
        "      [8,9,10], #C1\n",
        "      [9,10,9], #C2\n",
        "      [10,10,10]#C3\n",
        "    ],\n",
        "    [ #Circuito Digitales\n",
        "      [5,8,7], #C1\n",
        "      [8,7,9], #C2\n",
        "      [9,10,9] #C3\n",
        "    ]\n",
        "]\n",
        "import functools\n",
        "print( \"Lab1 de Estadistica en C1\", notas[1][0][0], \"NOta de Parcial C1 de Progra III: \",functools.reduce(lambda a,b: a+b, notas[0][0][2])/2 )"
      ],
      "metadata": {
        "colab": {
          "base_uri": "https://localhost:8080/"
        },
        "id": "-izEZfW8bD1W",
        "outputId": "150968ef-5d75-492d-8127-1ae08d27e014"
      },
      "execution_count": null,
      "outputs": [
        {
          "output_type": "stream",
          "name": "stdout",
          "text": [
            "Lab1 de Estadistica en C1 5 NOta de Parcial C1 de Progra III:  8.5\n"
          ]
        }
      ]
    },
    {
      "cell_type": "code",
      "source": [
        "#diccionarios (JSON): Se declaran con llaves pero se usan con corchetes\n",
        "misNotas = {\n",
        "    \"Programa III\":{\n",
        "        \"C1\": {\n",
        "          \"Lab1\":9,\"Lab2\":8, \"Parcial\":{\"ParteI\":8, \"ParteII\":9}\n",
        "        },\n",
        "        \"C2\":{\n",
        "          \"Lab1\":10,\"Lab2\":6, \"Parcial\":9\n",
        "        },\n",
        "        \"C3\":{\n",
        "          \"Lab1\":10,\"Lab2\":6, \"Parcial\":9\n",
        "        }\n",
        "    },\"Estadistica\":{\n",
        "        \"C1\": {\n",
        "          \"Lab1\":5,\"Lab2\":7, \"Parcial\":10\n",
        "        },\n",
        "        \"C2\":{\n",
        "          \"Lab1\":9,\"Lab2\":8, \"Parcial\":9\n",
        "        },\n",
        "        \"C3\":{\n",
        "          \"Lab1\":10,\"Lab2\":10, \"Parcial\":10\n",
        "        }\n",
        "    }, \"BD\":{\n",
        "        \"C1\": {\n",
        "          \"Lab1\":7,\"Lab2\":8, \"Parcial\":9\n",
        "        },\n",
        "        \"C2\":{\n",
        "          \"Lab1\":9,\"Lab2\":8, \"Parcial\":7\n",
        "        },\n",
        "        \"C3\":{\n",
        "          \"Lab1\":10,\"Lab2\":9, \"Parcial\":10\n",
        "        }\n",
        "    }, \"Ingles\":{\n",
        "        \"C1\": {\n",
        "          \"Lab1\":8,\"Lab2\":9, \"Parcial\":10\n",
        "        },\n",
        "        \"C2\":{\n",
        "          \"Lab1\":9,\"Lab2\":10, \"Parcial\":9\n",
        "        },\n",
        "        \"C3\":{\n",
        "          \"Lab1\":10,\"Lab2\":10, \"Parcial\":10\n",
        "        }\n",
        "    }, \"Circuitos Digitales\":{\n",
        "        \"C1\": {\n",
        "          \"Lab1\":5,\"Lab2\":8, \"Parcial\":7\n",
        "        },\n",
        "        \"C2\":{\n",
        "          \"Lab1\":8,\"Lab2\":7, \"Parcial\":9\n",
        "        },\n",
        "        \"C3\":{\n",
        "          \"Lab1\":9,\"Lab2\":10, \"Parcial\":9\n",
        "        }\n",
        "    }\n",
        "}\n",
        "print(\"Lab1 en C1 de Estadistica: \", misNotas[\"Estadistica\"][\"C1\"][\"Lab1\"])\n",
        "misNotas[\"Estadistica\"][\"C1\"][\"Lab1\"] = float(input(\"Lab1: \"))\n",
        "print(\"Lab1 en C1 de Estadistica: \", misNotas[\"Estadistica\"][\"C1\"][\"Lab1\"])"
      ],
      "metadata": {
        "colab": {
          "base_uri": "https://localhost:8080/"
        },
        "id": "bbhIJEtebQtN",
        "outputId": "b4e07cf1-593e-4303-8ed9-39d75be9d7dc"
      },
      "execution_count": null,
      "outputs": [
        {
          "output_type": "stream",
          "name": "stdout",
          "text": [
            "Lab1 en C1 de Estadistica:  5\n",
            "Lab1: 10\n",
            "Lab1 en C1 de Estadistica:  10.0\n"
          ]
        }
      ]
    },
    {
      "cell_type": "code",
      "source": [
        "edad = int(input(\"Dime tu edad: \"))\n",
        "if(edad<=2):\n",
        "  print(\"Eres un bebe\")\n",
        "elif(edad<12):\n",
        "  print(\"Eres un niño\")\n",
        "elif( edad<18 ):\n",
        "  print(\"Eres un adolescente\")\n",
        "elif( edad<=55 ):\n",
        "  print(\"Eres un adulto joven\")\n",
        "elif(edad<=65):\n",
        "  print(\"Eres un Adulto\")\n",
        "elif(edad<=85):\n",
        "  print(\"Eres un adulto mayor\")\n",
        "elif(edad<=130):\n",
        "  print(\"Larga vidad...\")\n",
        "else:\n",
        "  print(\"Edad incorrecto\")\n",
        "print(\"Termino\")"
      ],
      "metadata": {
        "colab": {
          "base_uri": "https://localhost:8080/"
        },
        "id": "zg88oGXQbb6E",
        "outputId": "a9390116-2abc-4458-ec5d-f9d0186de4fd"
      },
      "execution_count": null,
      "outputs": [
        {
          "output_type": "stream",
          "name": "stdout",
          "text": [
            "Dime tu edad: 50\n",
            "Eres un adulto joven\n",
            "Termino\n"
          ]
        }
      ]
    },
    {
      "cell_type": "code",
      "source": [
        "#hacer un programa que genera la tabla de multiplicar de x numero ingreso por el usuario\n",
        "nt = int(input(\"Dime la tabla de multiplicar a generar: \"))\n",
        "i=1\n",
        "while i<=10:\n",
        "  print( nt,\"X\",i,\"=\", nt*i )\n",
        "  i+=1"
      ],
      "metadata": {
        "colab": {
          "base_uri": "https://localhost:8080/"
        },
        "id": "GWL6bQ0dbvu8",
        "outputId": "100c7a53-8bf8-4fa8-ca1a-6c1058f77311"
      },
      "execution_count": null,
      "outputs": [
        {
          "output_type": "stream",
          "name": "stdout",
          "text": [
            "Dime la tabla de multiplicar a generar: 4\n",
            "4 X 1 = 4\n",
            "4 X 2 = 8\n",
            "4 X 3 = 12\n",
            "4 X 4 = 16\n",
            "4 X 5 = 20\n",
            "4 X 6 = 24\n",
            "4 X 7 = 28\n",
            "4 X 8 = 32\n",
            "4 X 9 = 36\n",
            "4 X 10 = 40\n"
          ]
        }
      ]
    },
    {
      "cell_type": "code",
      "source": [
        "#hacer un programa que genera la tabla de multiplicar de x numero ingreso por el usuario\n",
        "nt = int(input(\"Dime la tabla que deseas generar: \"))\n",
        "for i in range(1,11): #i<11\n",
        "  print(nt,\"X\",i,\"=\", nt*i)"
      ],
      "metadata": {
        "colab": {
          "base_uri": "https://localhost:8080/"
        },
        "id": "uDJf8mZ1b1fS",
        "outputId": "0bd67589-ec55-4c63-e8ed-ab54d020175f"
      },
      "execution_count": null,
      "outputs": [
        {
          "output_type": "stream",
          "name": "stdout",
          "text": [
            "Dime la tabla que deseas generar: 4\n",
            "4 X 1 = 4\n",
            "4 X 2 = 8\n",
            "4 X 3 = 12\n",
            "4 X 4 = 16\n",
            "4 X 5 = 20\n",
            "4 X 6 = 24\n",
            "4 X 7 = 28\n",
            "4 X 8 = 32\n",
            "4 X 9 = 36\n",
            "4 X 10 = 40\n"
          ]
        }
      ]
    },
    {
      "cell_type": "code",
      "source": [
        "#hacer un programa que genera la tabla de multiplicar de x numero ingreso por el usuario\n",
        "s = \"s\"\n",
        "while s==\"s\":\n",
        "  nt = int(input(\"Dime una tabla: \"))\n",
        "  for i in range(1, 11):\n",
        "    print(nt, \"X\",i,\"=\", nt*i)\n",
        "  s = input(\"Desea continua presione la tecla s, sino cualquier otra\")"
      ],
      "metadata": {
        "colab": {
          "base_uri": "https://localhost:8080/"
        },
        "id": "Rb53cHWdcIoE",
        "outputId": "ea6411a2-3ff9-425c-ee91-bbc24c41ca86"
      },
      "execution_count": null,
      "outputs": [
        {
          "name": "stdout",
          "output_type": "stream",
          "text": [
            "Dime una tabla: 5\n",
            "5 X 1 = 5\n",
            "5 X 2 = 10\n",
            "5 X 3 = 15\n",
            "5 X 4 = 20\n",
            "5 X 5 = 25\n",
            "5 X 6 = 30\n",
            "5 X 7 = 35\n",
            "5 X 8 = 40\n",
            "5 X 9 = 45\n",
            "5 X 10 = 50\n",
            "Desea continua presione la tecla s, sino cualquier otras\n",
            "Dime una tabla: 6\n",
            "6 X 1 = 6\n",
            "6 X 2 = 12\n",
            "6 X 3 = 18\n",
            "6 X 4 = 24\n",
            "6 X 5 = 30\n",
            "6 X 6 = 36\n",
            "6 X 7 = 42\n",
            "6 X 8 = 48\n",
            "6 X 9 = 54\n",
            "6 X 10 = 60\n",
            "Desea continua presione la tecla s, sino cualquier otran\n"
          ]
        }
      ]
    },
    {
      "cell_type": "code",
      "source": [
        "#conversores\n",
        "etiquetas = [\n",
        "    0,\n",
        "    [\"Seleccione un moneda\", \"1. Dolar\", \"2. Colon SV\", \"3. Quetzal\", \"4. Lempira\", \"5. Cordoba\"],\n",
        "    [\"Selecione un almacenamiento\", \"1. MegaByte\", \"2. Bit\", \"3. Byte\", \"4. KiloByte\", \"5. GigaByte\"]\n",
        "    ,3,4,5]\n",
        "\n",
        "valores = [0,\n",
        "  [0,1, 8.75, 7.73, 24.49, 35.96],\n",
        "  [0,1, 8388608, 1048576, 1024, 0.0009765625]  \n",
        "]"
      ],
      "metadata": {
        "id": "gWRV_IUUcRCS"
      },
      "execution_count": null,
      "outputs": []
    },
    {
      "cell_type": "code",
      "source": [
        "def convertir(opcion, de, a, cantidad):\n",
        "  return valores[opcion][a] / valores[opcion][de] * cantidad"
      ],
      "metadata": {
        "id": "o-1orOc6cXt1"
      },
      "execution_count": null,
      "outputs": []
    },
    {
      "cell_type": "code",
      "source": [
        "print(\"** MENU **\")\n",
        "print(\"1. Monedas\")\n",
        "print(\"2. Almacenamiento\")\n",
        "opcion = int(input(\"Opcion: \"))\n",
        "\n",
        "print( etiquetas[opcion] )\n",
        "de = int(input(\"DE: \"))\n",
        "a = int(input(\"A: \"))\n",
        "cantidad = float(input(\"Cantidad: \"))\n",
        "\n",
        "print( etiquetas[opcion][de], \" en \", etiquetas[opcion][a], \" equivale a: \", convertir(opcion, de, a, cantidad) )"
      ],
      "metadata": {
        "id": "2znp_z-SccTZ"
      },
      "execution_count": null,
      "outputs": []
    },
    {
      "cell_type": "markdown",
      "source": [
        "hacer un algoritmo en python que enceuntre la nota fianl del ciclo de una materia usando lamda"
      ],
      "metadata": {
        "id": "zGL-Yh5asSYO"
      }
    },
    {
      "cell_type": "code",
      "source": [
        "print(\"Ingrese sus notas de el primer computo\")\n",
        "labo1com1=float(input())\n",
        "labo2com1=float(input())\n",
        "parcial1=float(input())\n",
        "print(\"Ingrese sus notas de el segundo computo\")\n",
        "labo1com2=float(input())\n",
        "labo2com2=float(input())\n",
        "parcial2=float(input())\n",
        "print(\"Ingrese sus notas de el tercer computo\")\n",
        "labo1com3=float(input())\n",
        "labo2com3=float(input())\n",
        "parcial3=float(input())\n",
        "\n",
        "notas= lambda a,b,c: (a*0.3) + (b*0.3) + (c*0.3)\n",
        "\n",
        "comp1=notas(labo1com1,labo2com1,parcial1)\n",
        "comp2=notas(labo1com2,labo2com2,parcial2)\n",
        "comp3=notas(labo1com3,labo2com3,parcial3)\n",
        "\n",
        "notaFinal=(comp1 + comp2 + comp3) /3\n",
        "\n",
        "print(notaFinal)"
      ],
      "metadata": {
        "id": "z0SYw5e9sPD4"
      },
      "execution_count": null,
      "outputs": []
    },
    {
      "cell_type": "markdown",
      "source": [
        "practica "
      ],
      "metadata": {
        "id": "RR_VcacB2IpY"
      }
    },
    {
      "cell_type": "code",
      "source": [
        "!pip install keras\n"
      ],
      "metadata": {
        "id": "sU43JNs-0YSc",
        "outputId": "10df6065-e0c8-4292-b4fd-82d8aa57fdd6",
        "colab": {
          "base_uri": "https://localhost:8080/"
        }
      },
      "execution_count": null,
      "outputs": [
        {
          "output_type": "stream",
          "name": "stdout",
          "text": [
            "Looking in indexes: https://pypi.org/simple, https://us-python.pkg.dev/colab-wheels/public/simple/\n",
            "Requirement already satisfied: keras in /usr/local/lib/python3.7/dist-packages (2.8.0)\n"
          ]
        }
      ]
    },
    {
      "cell_type": "code",
      "source": [
        "from os import seteuid\n",
        "#POO\n",
        "class deducciones:\n",
        "  def __init__(self, sueldo, porcentajeISS, porcentajeAFP, tablaisr):\n",
        "    self.sueldo = sueldo\n",
        "    self.porcentajeISS= porcentajeISS\n",
        "    self.porcentajeAFP= porcentajeAFP\n",
        "    self.tablaisr= tablaisr\n",
        "  \n",
        "  \n",
        "  def calcularISS(self):\n",
        "    return self.sueldo * self.porcentajeISS/100\n",
        "\n",
        "  def calcularAfp(self):\n",
        "    return self.sueldo *self.porcentajeAFP/100\n",
        "\n",
        "  def calcularisr(self):\n",
        "    self.sueldoNeto = self.sueldo - (self.calcularISS()+self.calcularAfp)\n",
        "    isr = 0 \n",
        "    for tramo in self.tablaisr:\n",
        "      #desde                         #hasta\n",
        "      if self.sueldoNeto>=tramo[0] and self.sueldoNeto<=tramo[1]:\n",
        "        #desde*#porcentaje+#cuotafija\n",
        "        isr= (self.sueldoNeto-tramo[0]*tramo[2]+ tramo[3])\n",
        "        return isr\n",
        "\n"
      ],
      "metadata": {
        "id": "Spa6Vnb74THk"
      },
      "execution_count": null,
      "outputs": []
    },
    {
      "cell_type": "code",
      "source": [
        "#personas\n",
        "porcentajeISSP= 3\n",
        "porcentajeAFPP= 6.25\n",
        "tablaisrp= [\n",
        "    [0.01, 472, 0, 0], #tramo I\n",
        "    [472.01, 895.24, 0.1, 17.67 ], #tramo II\n",
        "    [895.25, 2038.10, 0.2, 60 ], #tramo III\n",
        "    [20.38.11, 99999, 0.3, 288.57], #tramo iv \n",
        "    ]"
      ],
      "metadata": {
        "id": "F1m_W5cT8hkS"
      },
      "execution_count": null,
      "outputs": []
    },
    {
      "cell_type": "code",
      "source": [
        "#empresas\n",
        "porcentajeISSE= 7.5\n",
        "porcentajeAFPE= 7.75"
      ],
      "metadata": {
        "id": "IjB6ksAN8g2c"
      },
      "execution_count": null,
      "outputs": []
    },
    {
      "cell_type": "code",
      "source": [
        "\n",
        "sueldo=float(input(\"sueldo:\"))\n",
        "dp= deducciones(sueldo, porcentajeISSP, porcentajeAFPP)\n",
        "de= deducciones(sueldo, porcentajeISSE, porcentajeAFPE)\n",
        "\n",
        "print(\"Iss - personas\", dp.calcularISS(), \"Iss - Empresa\", de.calcularISS())\n",
        "print(\"afp. personas \", dp.calcularAfp (),\"afp- empresa\", de.calcularAfp())"
      ],
      "metadata": {
        "id": "BU-RomAb5qzI",
        "outputId": "36144d56-d9d8-4baf-e5a4-b670f8c974ba",
        "colab": {
          "base_uri": "https://localhost:8080/"
        }
      },
      "execution_count": null,
      "outputs": [
        {
          "output_type": "stream",
          "name": "stdout",
          "text": [
            "sueldo:520.11\n",
            "Iss - personas 15.603299999999999 Iss - Empresa 39.008250000000004\n",
            "afp. perosnas  35.107425000000006 afp- empresa 40.308525\n"
          ]
        }
      ]
    },
    {
      "cell_type": "code",
      "source": [
        "import pandas as pd\n",
        "import matplotlib.pyplot as plt\n"
      ],
      "metadata": {
        "id": "Rt1SZI0466cz"
      },
      "execution_count": null,
      "outputs": []
    },
    {
      "cell_type": "code",
      "source": [
        "notas = pd.read_csv(\"/content/Libro1.csv\", sep=\";\") \n",
        "print(notas)"
      ],
      "metadata": {
        "id": "gDELog4-731H",
        "outputId": "5a42f1ff-b2ee-4fad-c616-3e8f05ff985b",
        "colab": {
          "base_uri": "https://localhost:8080/"
        }
      },
      "execution_count": null,
      "outputs": [
        {
          "output_type": "stream",
          "name": "stdout",
          "text": [
            "   alumnos  notas\n",
            "0    Erick     10\n",
            "1   Milena      9\n",
            "2     Fran      9\n",
            "3  Yeferin      8\n",
            "4     Alex      5\n",
            "5     Jose      4\n",
            "6     Joan      7\n"
          ]
        }
      ]
    },
    {
      "cell_type": "code",
      "source": [
        "sobresaliente= notas.loc[notas[\"notas\"]>=9]\n",
        "\n",
        "print(sobresaliente)\n",
        "\n",
        "sobresaliente.to_csv('/content/sobresalientes.csv', sep=\";\")"
      ],
      "metadata": {
        "id": "p8z4CtXdIyDP",
        "outputId": "c9aea0dc-8b70-4d91-e5b4-3e42cacabf45",
        "colab": {
          "base_uri": "https://localhost:8080/"
        }
      },
      "execution_count": null,
      "outputs": [
        {
          "output_type": "stream",
          "name": "stdout",
          "text": [
            "  alumnos  notas\n",
            "0   Erick     10\n",
            "1  Milena      9\n",
            "2    Fran      9\n"
          ]
        }
      ]
    },
    {
      "cell_type": "code",
      "source": [
        "reprobado= notas.loc[notas[\"notas\"]<6]\n",
        "\n",
        "print(reprobado)\n",
        "\n",
        "reprobado.to_csv('/content/reprobado.csv', sep=\";\")"
      ],
      "metadata": {
        "id": "OALYPerTMEfm",
        "outputId": "cf264f86-3757-40ce-abe3-8e767914ef01",
        "colab": {
          "base_uri": "https://localhost:8080/"
        }
      },
      "execution_count": null,
      "outputs": [
        {
          "output_type": "stream",
          "name": "stdout",
          "text": [
            "  alumnos  notas\n",
            "4    Alex      5\n",
            "5    Jose      4\n"
          ]
        }
      ]
    },
    {
      "cell_type": "code",
      "source": [
        "!pip  install tensorflow"
      ],
      "metadata": {
        "id": "_Lq7nhx6FMjR",
        "outputId": "87c7680d-41f8-4511-98fa-b051427b5f90",
        "colab": {
          "base_uri": "https://localhost:8080/"
        }
      },
      "execution_count": null,
      "outputs": [
        {
          "output_type": "stream",
          "name": "stdout",
          "text": [
            "Looking in indexes: https://pypi.org/simple, https://us-python.pkg.dev/colab-wheels/public/simple/\n",
            "Requirement already satisfied: tensorflow in /usr/local/lib/python3.7/dist-packages (2.8.2+zzzcolab20220719082949)\n",
            "Requirement already satisfied: typing-extensions>=3.6.6 in /usr/local/lib/python3.7/dist-packages (from tensorflow) (4.1.1)\n",
            "Requirement already satisfied: gast>=0.2.1 in /usr/local/lib/python3.7/dist-packages (from tensorflow) (0.5.3)\n",
            "Requirement already satisfied: keras-preprocessing>=1.1.1 in /usr/local/lib/python3.7/dist-packages (from tensorflow) (1.1.2)\n",
            "Requirement already satisfied: opt-einsum>=2.3.2 in /usr/local/lib/python3.7/dist-packages (from tensorflow) (3.3.0)\n",
            "Requirement already satisfied: setuptools in /usr/local/lib/python3.7/dist-packages (from tensorflow) (57.4.0)\n",
            "Requirement already satisfied: termcolor>=1.1.0 in /usr/local/lib/python3.7/dist-packages (from tensorflow) (1.1.0)\n",
            "Requirement already satisfied: numpy>=1.20 in /usr/local/lib/python3.7/dist-packages (from tensorflow) (1.21.6)\n",
            "Requirement already satisfied: absl-py>=0.4.0 in /usr/local/lib/python3.7/dist-packages (from tensorflow) (1.2.0)\n",
            "Requirement already satisfied: h5py>=2.9.0 in /usr/local/lib/python3.7/dist-packages (from tensorflow) (3.1.0)\n",
            "Requirement already satisfied: wrapt>=1.11.0 in /usr/local/lib/python3.7/dist-packages (from tensorflow) (1.14.1)\n",
            "Requirement already satisfied: protobuf<3.20,>=3.9.2 in /usr/local/lib/python3.7/dist-packages (from tensorflow) (3.17.3)\n",
            "Requirement already satisfied: google-pasta>=0.1.1 in /usr/local/lib/python3.7/dist-packages (from tensorflow) (0.2.0)\n",
            "Requirement already satisfied: tensorflow-io-gcs-filesystem>=0.23.1 in /usr/local/lib/python3.7/dist-packages (from tensorflow) (0.26.0)\n",
            "Requirement already satisfied: flatbuffers>=1.12 in /usr/local/lib/python3.7/dist-packages (from tensorflow) (2.0.7)\n",
            "Requirement already satisfied: keras<2.9,>=2.8.0rc0 in /usr/local/lib/python3.7/dist-packages (from tensorflow) (2.8.0)\n",
            "Requirement already satisfied: libclang>=9.0.1 in /usr/local/lib/python3.7/dist-packages (from tensorflow) (14.0.6)\n",
            "Requirement already satisfied: tensorflow-estimator<2.9,>=2.8 in /usr/local/lib/python3.7/dist-packages (from tensorflow) (2.8.0)\n",
            "Requirement already satisfied: tensorboard<2.9,>=2.8 in /usr/local/lib/python3.7/dist-packages (from tensorflow) (2.8.0)\n",
            "Requirement already satisfied: grpcio<2.0,>=1.24.3 in /usr/local/lib/python3.7/dist-packages (from tensorflow) (1.48.1)\n",
            "Requirement already satisfied: six>=1.12.0 in /usr/local/lib/python3.7/dist-packages (from tensorflow) (1.15.0)\n",
            "Requirement already satisfied: astunparse>=1.6.0 in /usr/local/lib/python3.7/dist-packages (from tensorflow) (1.6.3)\n",
            "Requirement already satisfied: wheel<1.0,>=0.23.0 in /usr/local/lib/python3.7/dist-packages (from astunparse>=1.6.0->tensorflow) (0.37.1)\n",
            "Requirement already satisfied: cached-property in /usr/local/lib/python3.7/dist-packages (from h5py>=2.9.0->tensorflow) (1.5.2)\n",
            "Requirement already satisfied: tensorboard-plugin-wit>=1.6.0 in /usr/local/lib/python3.7/dist-packages (from tensorboard<2.9,>=2.8->tensorflow) (1.8.1)\n",
            "Requirement already satisfied: werkzeug>=0.11.15 in /usr/local/lib/python3.7/dist-packages (from tensorboard<2.9,>=2.8->tensorflow) (1.0.1)\n",
            "Requirement already satisfied: google-auth<3,>=1.6.3 in /usr/local/lib/python3.7/dist-packages (from tensorboard<2.9,>=2.8->tensorflow) (1.35.0)\n",
            "Requirement already satisfied: requests<3,>=2.21.0 in /usr/local/lib/python3.7/dist-packages (from tensorboard<2.9,>=2.8->tensorflow) (2.23.0)\n",
            "Requirement already satisfied: google-auth-oauthlib<0.5,>=0.4.1 in /usr/local/lib/python3.7/dist-packages (from tensorboard<2.9,>=2.8->tensorflow) (0.4.6)\n",
            "Requirement already satisfied: markdown>=2.6.8 in /usr/local/lib/python3.7/dist-packages (from tensorboard<2.9,>=2.8->tensorflow) (3.4.1)\n",
            "Requirement already satisfied: tensorboard-data-server<0.7.0,>=0.6.0 in /usr/local/lib/python3.7/dist-packages (from tensorboard<2.9,>=2.8->tensorflow) (0.6.1)\n",
            "Requirement already satisfied: rsa<5,>=3.1.4 in /usr/local/lib/python3.7/dist-packages (from google-auth<3,>=1.6.3->tensorboard<2.9,>=2.8->tensorflow) (4.9)\n",
            "Requirement already satisfied: cachetools<5.0,>=2.0.0 in /usr/local/lib/python3.7/dist-packages (from google-auth<3,>=1.6.3->tensorboard<2.9,>=2.8->tensorflow) (4.2.4)\n",
            "Requirement already satisfied: pyasn1-modules>=0.2.1 in /usr/local/lib/python3.7/dist-packages (from google-auth<3,>=1.6.3->tensorboard<2.9,>=2.8->tensorflow) (0.2.8)\n",
            "Requirement already satisfied: requests-oauthlib>=0.7.0 in /usr/local/lib/python3.7/dist-packages (from google-auth-oauthlib<0.5,>=0.4.1->tensorboard<2.9,>=2.8->tensorflow) (1.3.1)\n",
            "Requirement already satisfied: importlib-metadata>=4.4 in /usr/local/lib/python3.7/dist-packages (from markdown>=2.6.8->tensorboard<2.9,>=2.8->tensorflow) (4.12.0)\n",
            "Requirement already satisfied: zipp>=0.5 in /usr/local/lib/python3.7/dist-packages (from importlib-metadata>=4.4->markdown>=2.6.8->tensorboard<2.9,>=2.8->tensorflow) (3.8.1)\n",
            "Requirement already satisfied: pyasn1<0.5.0,>=0.4.6 in /usr/local/lib/python3.7/dist-packages (from pyasn1-modules>=0.2.1->google-auth<3,>=1.6.3->tensorboard<2.9,>=2.8->tensorflow) (0.4.8)\n",
            "Requirement already satisfied: urllib3!=1.25.0,!=1.25.1,<1.26,>=1.21.1 in /usr/local/lib/python3.7/dist-packages (from requests<3,>=2.21.0->tensorboard<2.9,>=2.8->tensorflow) (1.24.3)\n",
            "Requirement already satisfied: certifi>=2017.4.17 in /usr/local/lib/python3.7/dist-packages (from requests<3,>=2.21.0->tensorboard<2.9,>=2.8->tensorflow) (2022.6.15)\n",
            "Requirement already satisfied: idna<3,>=2.5 in /usr/local/lib/python3.7/dist-packages (from requests<3,>=2.21.0->tensorboard<2.9,>=2.8->tensorflow) (2.10)\n",
            "Requirement already satisfied: chardet<4,>=3.0.2 in /usr/local/lib/python3.7/dist-packages (from requests<3,>=2.21.0->tensorboard<2.9,>=2.8->tensorflow) (3.0.4)\n",
            "Requirement already satisfied: oauthlib>=3.0.0 in /usr/local/lib/python3.7/dist-packages (from requests-oauthlib>=0.7.0->google-auth-oauthlib<0.5,>=0.4.1->tensorboard<2.9,>=2.8->tensorflow) (3.2.0)\n"
          ]
        }
      ]
    },
    {
      "cell_type": "code",
      "source": [
        "#importamo la libreria de tenso\n",
        "import tensorflow as tf\n"
      ],
      "metadata": {
        "id": "y3Yk7ZOJFjg6"
      },
      "execution_count": null,
      "outputs": []
    },
    {
      "cell_type": "code",
      "source": [
        "suma = tf.add(3,5).numpy()\n",
        "print (suma)"
      ],
      "metadata": {
        "id": "PYdZopDiFzIq",
        "outputId": "f1e1754f-67ee-4564-82a7-152005851156",
        "colab": {
          "base_uri": "https://localhost:8080/"
        }
      },
      "execution_count": null,
      "outputs": [
        {
          "output_type": "stream",
          "name": "stdout",
          "text": [
            "8\n"
          ]
        }
      ]
    },
    {
      "cell_type": "code",
      "source": [
        "x = 3\n",
        "y = 5\n",
        "z= x+y\n",
        "print(z)\n"
      ],
      "metadata": {
        "id": "JcXse61sGG8p",
        "outputId": "961380ac-15eb-4be5-dad0-24d2543e8290",
        "colab": {
          "base_uri": "https://localhost:8080/"
        }
      },
      "execution_count": null,
      "outputs": [
        {
          "output_type": "stream",
          "name": "stdout",
          "text": [
            "8\n"
          ]
        }
      ]
    },
    {
      "cell_type": "code",
      "source": [],
      "metadata": {
        "id": "pfua11Yc7feZ"
      },
      "execution_count": null,
      "outputs": []
    },
    {
      "cell_type": "markdown",
      "source": [
        "entrenamiento de una IA para que aprenda a covertir temperaturas de celsiu a fahrenheit "
      ],
      "metadata": {
        "id": "RD7eZDWj-Uhu"
      }
    },
    {
      "cell_type": "code",
      "source": [
        "#importar librerias \n",
        "import tensorflow as tf\n",
        "import matplotlib.pyplot as plt \n",
        "import pandas as pd\n",
        "import seaborn as sb\n",
        "\n"
      ],
      "metadata": {
        "id": "CgW9cRz9-5sr"
      },
      "execution_count": 2,
      "outputs": []
    },
    {
      "cell_type": "code",
      "source": [
        "temperaturas =  pd.read_csv('/content/temperaturas.csv', sep=\";\")\n",
        "print(temperaturas)"
      ],
      "metadata": {
        "id": "VHH7a7Rw_c8D",
        "outputId": "0bfd8a83-aac5-422e-854c-536429aeb8d9",
        "colab": {
          "base_uri": "https://localhost:8080/"
        }
      },
      "execution_count": 50,
      "outputs": [
        {
          "output_type": "stream",
          "name": "stdout",
          "text": [
            "     c       k\n",
            "0  -40  233.15\n",
            "1  -30  243.15\n",
            "2  -20  253.15\n",
            "3  -10  263.15\n",
            "4   -5  268.15\n",
            "5   -4  269.15\n",
            "6   -3  270.15\n",
            "7   -2  271.15\n",
            "8   -1  272.15\n",
            "9    0  273.15\n",
            "10   1  274.15\n",
            "11   2  275.15\n",
            "12   3  276.15\n",
            "13   4  277.15\n",
            "14   5  278.15\n",
            "15  10  283.15\n",
            "16  20  293.15\n",
            "17  30  303.15\n",
            "18  40  313.15\n"
          ]
        }
      ]
    },
    {
      "cell_type": "code",
      "source": [
        "#datos de entrenamiento\n",
        "c = temperaturas[\"c\"]\n",
        "k = temperaturas[\"k\"]"
      ],
      "metadata": {
        "id": "imp_KY_UAcIZ"
      },
      "execution_count": 49,
      "outputs": []
    },
    {
      "cell_type": "code",
      "source": [
        "#graficar\n",
        "sb.scatterplot(c,k)\n",
        "plt.show()"
      ],
      "metadata": {
        "id": "OMJl6uhZA7K6",
        "outputId": "ce4866a2-9c0d-4720-986c-3b7170436688",
        "colab": {
          "base_uri": "https://localhost:8080/",
          "height": 336
        }
      },
      "execution_count": 47,
      "outputs": [
        {
          "output_type": "stream",
          "name": "stderr",
          "text": [
            "/usr/local/lib/python3.7/dist-packages/seaborn/_decorators.py:43: FutureWarning: Pass the following variables as keyword args: x, y. From version 0.12, the only valid positional argument will be `data`, and passing other arguments without an explicit keyword will result in an error or misinterpretation.\n",
            "  FutureWarning\n"
          ]
        },
        {
          "output_type": "display_data",
          "data": {
            "text/plain": [
              "<Figure size 432x288 with 1 Axes>"
            ],
            "image/png": "[encoded data removed]"
          },
          "metadata": {
            "needs_background": "light"
          }
        }
      ]
    },
    {
      "cell_type": "code",
      "source": [
        "#modelo de entrenamiento, con 1 capa densa (oculta)\n",
        "modelo = tf.keras.Sequential()\n",
        "modelo.add(tf.keras.layers.Dense(units=1, input_shape=[ 1]))"
      ],
      "metadata": {
        "id": "-hZ4xLz2BVP3"
      },
      "execution_count": 83,
      "outputs": []
    },
    {
      "cell_type": "code",
      "source": [],
      "metadata": {
        "id": "nGZl1RMACFI2"
      },
      "execution_count": 79,
      "outputs": []
    },
    {
      "cell_type": "code",
      "source": [
        "#compilar modelo\n",
        "modelo.compile(optimizer=tf.keras.optimizers.Adam(1), loss=\"mean_squared_error\")"
      ],
      "metadata": {
        "id": "n6BW-qUjCRne"
      },
      "execution_count": 86,
      "outputs": []
    },
    {
      "cell_type": "code",
      "source": [
        "#entrenar el modelo\n",
        "epocas = modelo.fit(c,k, epochs=470, verbose=1)"
      ],
      "metadata": {
        "id": "SgO_f_rJCrc1",
        "outputId": "8a1fe4c0-7727-4970-8ee3-2d2b10664597",
        "colab": {
          "base_uri": "https://localhost:8080/"
        }
      },
      "execution_count": 89,
      "outputs": [
        {
          "output_type": "stream",
          "name": "stdout",
          "text": [
            "Epoch 1/470\n",
            "1/1 [==============================] - 0s 11ms/step - loss: 0.0000e+00\n",
            "Epoch 2/470\n",
            "1/1 [==============================] - 0s 9ms/step - loss: 0.0000e+00\n",
            "Epoch 3/470\n",
            "1/1 [==============================] - 0s 9ms/step - loss: 0.0000e+00\n",
            "Epoch 4/470\n",
            "1/1 [==============================] - 0s 15ms/step - loss: 0.0000e+00\n",
            "Epoch 5/470\n",
            "1/1 [==============================] - 0s 8ms/step - loss: 0.0000e+00\n",
            "Epoch 6/470\n",
            "1/1 [==============================] - 0s 8ms/step - loss: 7.3525e-11\n",
            "Epoch 7/470\n",
            "1/1 [==============================] - 0s 8ms/step - loss: 0.0000e+00\n",
            "Epoch 8/470\n",
            "1/1 [==============================] - 0s 8ms/step - loss: 1.7156e-10\n",
            "Epoch 9/470\n",
            "1/1 [==============================] - 0s 8ms/step - loss: 0.0000e+00\n",
            "Epoch 10/470\n",
            "1/1 [==============================] - 0s 8ms/step - loss: 1.7156e-10\n",
            "Epoch 11/470\n",
            "1/1 [==============================] - 0s 8ms/step - loss: 0.0000e+00\n",
            "Epoch 12/470\n",
            "1/1 [==============================] - 0s 9ms/step - loss: 7.3525e-11\n",
            "Epoch 13/470\n",
            "1/1 [==============================] - 0s 7ms/step - loss: 0.0000e+00\n",
            "Epoch 14/470\n",
            "1/1 [==============================] - 0s 7ms/step - loss: 0.0000e+00\n",
            "Epoch 15/470\n",
            "1/1 [==============================] - 0s 8ms/step - loss: 0.0000e+00\n",
            "Epoch 16/470\n",
            "1/1 [==============================] - 0s 8ms/step - loss: 0.0000e+00\n",
            "Epoch 17/470\n",
            "1/1 [==============================] - 0s 9ms/step - loss: 0.0000e+00\n",
            "Epoch 18/470\n",
            "1/1 [==============================] - 0s 8ms/step - loss: 7.3525e-11\n",
            "Epoch 19/470\n",
            "1/1 [==============================] - 0s 7ms/step - loss: 0.0000e+00\n",
            "Epoch 20/470\n",
            "1/1 [==============================] - 0s 7ms/step - loss: 1.7156e-10\n",
            "Epoch 21/470\n",
            "1/1 [==============================] - 0s 7ms/step - loss: 0.0000e+00\n",
            "Epoch 22/470\n",
            "1/1 [==============================] - 0s 8ms/step - loss: 1.7156e-10\n",
            "Epoch 23/470\n",
            "1/1 [==============================] - 0s 8ms/step - loss: 0.0000e+00\n",
            "Epoch 24/470\n",
            "1/1 [==============================] - 0s 8ms/step - loss: 7.3525e-11\n",
            "Epoch 25/470\n",
            "1/1 [==============================] - 0s 8ms/step - loss: 0.0000e+00\n",
            "Epoch 26/470\n",
            "1/1 [==============================] - 0s 9ms/step - loss: 0.0000e+00\n",
            "Epoch 27/470\n",
            "1/1 [==============================] - 0s 8ms/step - loss: 0.0000e+00\n",
            "Epoch 28/470\n",
            "1/1 [==============================] - 0s 8ms/step - loss: 0.0000e+00\n",
            "Epoch 29/470\n",
            "1/1 [==============================] - 0s 8ms/step - loss: 0.0000e+00\n",
            "Epoch 30/470\n",
            "1/1 [==============================] - 0s 8ms/step - loss: 7.3525e-11\n",
            "Epoch 31/470\n",
            "1/1 [==============================] - 0s 8ms/step - loss: 0.0000e+00\n",
            "Epoch 32/470\n",
            "1/1 [==============================] - 0s 8ms/step - loss: 1.7156e-10\n",
            "Epoch 33/470\n",
            "1/1 [==============================] - 0s 8ms/step - loss: 0.0000e+00\n",
            "Epoch 34/470\n",
            "1/1 [==============================] - 0s 7ms/step - loss: 1.7156e-10\n",
            "Epoch 35/470\n",
            "1/1 [==============================] - 0s 8ms/step - loss: 0.0000e+00\n",
            "Epoch 36/470\n",
            "1/1 [==============================] - 0s 8ms/step - loss: 7.3525e-11\n",
            "Epoch 37/470\n",
            "1/1 [==============================] - 0s 6ms/step - loss: 0.0000e+00\n",
            "Epoch 38/470\n",
            "1/1 [==============================] - 0s 8ms/step - loss: 0.0000e+00\n",
            "Epoch 39/470\n",
            "1/1 [==============================] - 0s 8ms/step - loss: 0.0000e+00\n",
            "Epoch 40/470\n",
            "1/1 [==============================] - 0s 8ms/step - loss: 0.0000e+00\n",
            "Epoch 41/470\n",
            "1/1 [==============================] - 0s 6ms/step - loss: 0.0000e+00\n",
            "Epoch 42/470\n",
            "1/1 [==============================] - 0s 7ms/step - loss: 7.3525e-11\n",
            "Epoch 43/470\n",
            "1/1 [==============================] - 0s 8ms/step - loss: 0.0000e+00\n",
            "Epoch 44/470\n",
            "1/1 [==============================] - 0s 8ms/step - loss: 1.7156e-10\n",
            "Epoch 45/470\n",
            "1/1 [==============================] - 0s 6ms/step - loss: 0.0000e+00\n",
            "Epoch 46/470\n",
            "1/1 [==============================] - 0s 7ms/step - loss: 1.7156e-10\n",
            "Epoch 47/470\n",
            "1/1 [==============================] - 0s 8ms/step - loss: 0.0000e+00\n",
            "Epoch 48/470\n",
            "1/1 [==============================] - 0s 8ms/step - loss: 7.3525e-11\n",
            "Epoch 49/470\n",
            "1/1 [==============================] - 0s 8ms/step - loss: 0.0000e+00\n",
            "Epoch 50/470\n",
            "1/1 [==============================] - 0s 7ms/step - loss: 0.0000e+00\n",
            "Epoch 51/470\n",
            "1/1 [==============================] - 0s 7ms/step - loss: 0.0000e+00\n",
            "Epoch 52/470\n",
            "1/1 [==============================] - 0s 6ms/step - loss: 0.0000e+00\n",
            "Epoch 53/470\n",
            "1/1 [==============================] - 0s 7ms/step - loss: 0.0000e+00\n",
            "Epoch 54/470\n",
            "1/1 [==============================] - 0s 8ms/step - loss: 7.3525e-11\n",
            "Epoch 55/470\n",
            "1/1 [==============================] - 0s 7ms/step - loss: 0.0000e+00\n",
            "Epoch 56/470\n",
            "1/1 [==============================] - 0s 8ms/step - loss: 1.7156e-10\n",
            "Epoch 57/470\n",
            "1/1 [==============================] - 0s 8ms/step - loss: 0.0000e+00\n",
            "Epoch 58/470\n",
            "1/1 [==============================] - 0s 7ms/step - loss: 1.7156e-10\n",
            "Epoch 59/470\n",
            "1/1 [==============================] - 0s 7ms/step - loss: 0.0000e+00\n",
            "Epoch 60/470\n",
            "1/1 [==============================] - 0s 7ms/step - loss: 7.3525e-11\n",
            "Epoch 61/470\n",
            "1/1 [==============================] - 0s 8ms/step - loss: 0.0000e+00\n",
            "Epoch 62/470\n",
            "1/1 [==============================] - 0s 8ms/step - loss: 0.0000e+00\n",
            "Epoch 63/470\n",
            "1/1 [==============================] - 0s 12ms/step - loss: 0.0000e+00\n",
            "Epoch 64/470\n",
            "1/1 [==============================] - 0s 9ms/step - loss: 0.0000e+00\n",
            "Epoch 65/470\n",
            "1/1 [==============================] - 0s 6ms/step - loss: 0.0000e+00\n",
            "Epoch 66/470\n",
            "1/1 [==============================] - 0s 7ms/step - loss: 7.3525e-11\n",
            "Epoch 67/470\n",
            "1/1 [==============================] - 0s 7ms/step - loss: 0.0000e+00\n",
            "Epoch 68/470\n",
            "1/1 [==============================] - 0s 7ms/step - loss: 1.7156e-10\n",
            "Epoch 69/470\n",
            "1/1 [==============================] - 0s 7ms/step - loss: 0.0000e+00\n",
            "Epoch 70/470\n",
            "1/1 [==============================] - 0s 7ms/step - loss: 2.2058e-10\n",
            "Epoch 71/470\n",
            "1/1 [==============================] - 0s 7ms/step - loss: 0.0000e+00\n",
            "Epoch 72/470\n",
            "1/1 [==============================] - 0s 8ms/step - loss: 2.2058e-10\n",
            "Epoch 73/470\n",
            "1/1 [==============================] - 0s 7ms/step - loss: 0.0000e+00\n",
            "Epoch 74/470\n",
            "1/1 [==============================] - 0s 7ms/step - loss: 1.7156e-10\n",
            "Epoch 75/470\n",
            "1/1 [==============================] - 0s 8ms/step - loss: 0.0000e+00\n",
            "Epoch 76/470\n",
            "1/1 [==============================] - 0s 14ms/step - loss: 7.3525e-11\n",
            "Epoch 77/470\n",
            "1/1 [==============================] - 0s 7ms/step - loss: 0.0000e+00\n",
            "Epoch 78/470\n",
            "1/1 [==============================] - 0s 8ms/step - loss: 0.0000e+00\n",
            "Epoch 79/470\n",
            "1/1 [==============================] - 0s 8ms/step - loss: 0.0000e+00\n",
            "Epoch 80/470\n",
            "1/1 [==============================] - 0s 8ms/step - loss: 0.0000e+00\n",
            "Epoch 81/470\n",
            "1/1 [==============================] - 0s 8ms/step - loss: 0.0000e+00\n",
            "Epoch 82/470\n",
            "1/1 [==============================] - 0s 8ms/step - loss: 7.3525e-11\n",
            "Epoch 83/470\n",
            "1/1 [==============================] - 0s 6ms/step - loss: 0.0000e+00\n",
            "Epoch 84/470\n",
            "1/1 [==============================] - 0s 6ms/step - loss: 2.2058e-10\n",
            "Epoch 85/470\n",
            "1/1 [==============================] - 0s 6ms/step - loss: 0.0000e+00\n",
            "Epoch 86/470\n",
            "1/1 [==============================] - 0s 7ms/step - loss: 2.5734e-10\n",
            "Epoch 87/470\n",
            "1/1 [==============================] - 0s 7ms/step - loss: 0.0000e+00\n",
            "Epoch 88/470\n",
            "1/1 [==============================] - 0s 8ms/step - loss: 1.3480e-10\n",
            "Epoch 89/470\n",
            "1/1 [==============================] - 0s 8ms/step - loss: 0.0000e+00\n",
            "Epoch 90/470\n",
            "1/1 [==============================] - 0s 7ms/step - loss: 0.0000e+00\n",
            "Epoch 91/470\n",
            "1/1 [==============================] - 0s 7ms/step - loss: 1.7156e-10\n",
            "Epoch 92/470\n",
            "1/1 [==============================] - 0s 7ms/step - loss: 7.3525e-11\n",
            "Epoch 93/470\n",
            "1/1 [==============================] - 0s 7ms/step - loss: 1.3480e-10\n",
            "Epoch 94/470\n",
            "1/1 [==============================] - 0s 11ms/step - loss: 7.3525e-11\n",
            "Epoch 95/470\n",
            "1/1 [==============================] - 0s 7ms/step - loss: 1.3480e-10\n",
            "Epoch 96/470\n",
            "1/1 [==============================] - 0s 7ms/step - loss: 7.3525e-11\n",
            "Epoch 97/470\n",
            "1/1 [==============================] - 0s 7ms/step - loss: 1.3480e-10\n",
            "Epoch 98/470\n",
            "1/1 [==============================] - 0s 7ms/step - loss: 7.3525e-11\n",
            "Epoch 99/470\n",
            "1/1 [==============================] - 0s 7ms/step - loss: 1.3480e-10\n",
            "Epoch 100/470\n",
            "1/1 [==============================] - 0s 7ms/step - loss: 7.3525e-11\n",
            "Epoch 101/470\n",
            "1/1 [==============================] - 0s 8ms/step - loss: 1.3480e-10\n",
            "Epoch 102/470\n",
            "1/1 [==============================] - 0s 8ms/step - loss: 7.3525e-11\n",
            "Epoch 103/470\n",
            "1/1 [==============================] - 0s 7ms/step - loss: 1.3480e-10\n",
            "Epoch 104/470\n",
            "1/1 [==============================] - 0s 7ms/step - loss: 7.3525e-11\n",
            "Epoch 105/470\n",
            "1/1 [==============================] - 0s 6ms/step - loss: 1.3480e-10\n",
            "Epoch 106/470\n",
            "1/1 [==============================] - 0s 6ms/step - loss: 7.3525e-11\n",
            "Epoch 107/470\n",
            "1/1 [==============================] - 0s 7ms/step - loss: 1.3480e-10\n",
            "Epoch 108/470\n",
            "1/1 [==============================] - 0s 6ms/step - loss: 7.3525e-11\n",
            "Epoch 109/470\n",
            "1/1 [==============================] - 0s 7ms/step - loss: 1.3480e-10\n",
            "Epoch 110/470\n",
            "1/1 [==============================] - 0s 7ms/step - loss: 7.3525e-11\n",
            "Epoch 111/470\n",
            "1/1 [==============================] - 0s 7ms/step - loss: 1.7156e-10\n",
            "Epoch 112/470\n",
            "1/1 [==============================] - 0s 7ms/step - loss: 1.3480e-10\n",
            "Epoch 113/470\n",
            "1/1 [==============================] - 0s 7ms/step - loss: 1.3480e-10\n",
            "Epoch 114/470\n",
            "1/1 [==============================] - 0s 7ms/step - loss: 1.7156e-10\n",
            "Epoch 115/470\n",
            "1/1 [==============================] - 0s 108ms/step - loss: 2.4508e-11\n",
            "Epoch 116/470\n",
            "1/1 [==============================] - 0s 7ms/step - loss: 0.0000e+00\n",
            "Epoch 117/470\n",
            "1/1 [==============================] - 0s 8ms/step - loss: 2.2058e-10\n",
            "Epoch 118/470\n",
            "1/1 [==============================] - 0s 7ms/step - loss: 0.0000e+00\n",
            "Epoch 119/470\n",
            "1/1 [==============================] - 0s 6ms/step - loss: 3.1861e-10\n",
            "Epoch 120/470\n",
            "1/1 [==============================] - 0s 6ms/step - loss: 0.0000e+00\n",
            "Epoch 121/470\n",
            "1/1 [==============================] - 0s 7ms/step - loss: 1.7156e-10\n",
            "Epoch 122/470\n",
            "1/1 [==============================] - 0s 14ms/step - loss: 0.0000e+00\n",
            "Epoch 123/470\n",
            "1/1 [==============================] - 0s 13ms/step - loss: 2.4508e-11\n",
            "Epoch 124/470\n",
            "1/1 [==============================] - 0s 10ms/step - loss: 7.3525e-11\n",
            "Epoch 125/470\n",
            "1/1 [==============================] - 0s 8ms/step - loss: 0.0000e+00\n",
            "Epoch 126/470\n",
            "1/1 [==============================] - 0s 9ms/step - loss: 2.5734e-10\n",
            "Epoch 127/470\n",
            "1/1 [==============================] - 0s 9ms/step - loss: 0.0000e+00\n",
            "Epoch 128/470\n",
            "1/1 [==============================] - 0s 8ms/step - loss: 3.1861e-10\n",
            "Epoch 129/470\n",
            "1/1 [==============================] - 0s 12ms/step - loss: 0.0000e+00\n",
            "Epoch 130/470\n",
            "1/1 [==============================] - 0s 10ms/step - loss: 1.3480e-10\n",
            "Epoch 131/470\n",
            "1/1 [==============================] - 0s 11ms/step - loss: 0.0000e+00\n",
            "Epoch 132/470\n",
            "1/1 [==============================] - 0s 12ms/step - loss: 0.0000e+00\n",
            "Epoch 133/470\n",
            "1/1 [==============================] - 0s 9ms/step - loss: 7.3525e-11\n",
            "Epoch 134/470\n",
            "1/1 [==============================] - 0s 12ms/step - loss: 0.0000e+00\n",
            "Epoch 135/470\n",
            "1/1 [==============================] - 0s 10ms/step - loss: 7.3525e-11\n",
            "Epoch 136/470\n",
            "1/1 [==============================] - 0s 9ms/step - loss: 0.0000e+00\n",
            "Epoch 137/470\n",
            "1/1 [==============================] - 0s 7ms/step - loss: 2.4508e-11\n",
            "Epoch 138/470\n",
            "1/1 [==============================] - 0s 11ms/step - loss: 0.0000e+00\n",
            "Epoch 139/470\n",
            "1/1 [==============================] - 0s 7ms/step - loss: 0.0000e+00\n",
            "Epoch 140/470\n",
            "1/1 [==============================] - 0s 8ms/step - loss: 0.0000e+00\n",
            "Epoch 141/470\n",
            "1/1 [==============================] - 0s 8ms/step - loss: 0.0000e+00\n",
            "Epoch 142/470\n",
            "1/1 [==============================] - 0s 8ms/step - loss: 0.0000e+00\n",
            "Epoch 143/470\n",
            "1/1 [==============================] - 0s 8ms/step - loss: 0.0000e+00\n",
            "Epoch 144/470\n",
            "1/1 [==============================] - 0s 7ms/step - loss: 0.0000e+00\n",
            "Epoch 145/470\n",
            "1/1 [==============================] - 0s 6ms/step - loss: 0.0000e+00\n",
            "Epoch 146/470\n",
            "1/1 [==============================] - 0s 13ms/step - loss: 0.0000e+00\n",
            "Epoch 147/470\n",
            "1/1 [==============================] - 0s 7ms/step - loss: 0.0000e+00\n",
            "Epoch 148/470\n",
            "1/1 [==============================] - 0s 8ms/step - loss: 0.0000e+00\n",
            "Epoch 149/470\n",
            "1/1 [==============================] - 0s 12ms/step - loss: 0.0000e+00\n",
            "Epoch 150/470\n",
            "1/1 [==============================] - 0s 8ms/step - loss: 0.0000e+00\n",
            "Epoch 151/470\n",
            "1/1 [==============================] - 0s 7ms/step - loss: 0.0000e+00\n",
            "Epoch 152/470\n",
            "1/1 [==============================] - 0s 7ms/step - loss: 0.0000e+00\n",
            "Epoch 153/470\n",
            "1/1 [==============================] - 0s 7ms/step - loss: 0.0000e+00\n",
            "Epoch 154/470\n",
            "1/1 [==============================] - 0s 7ms/step - loss: 0.0000e+00\n",
            "Epoch 155/470\n",
            "1/1 [==============================] - 0s 17ms/step - loss: 0.0000e+00\n",
            "Epoch 156/470\n",
            "1/1 [==============================] - 0s 10ms/step - loss: 0.0000e+00\n",
            "Epoch 157/470\n",
            "1/1 [==============================] - 0s 9ms/step - loss: 0.0000e+00\n",
            "Epoch 158/470\n",
            "1/1 [==============================] - 0s 11ms/step - loss: 0.0000e+00\n",
            "Epoch 159/470\n",
            "1/1 [==============================] - 0s 10ms/step - loss: 0.0000e+00\n",
            "Epoch 160/470\n",
            "1/1 [==============================] - 0s 15ms/step - loss: 0.0000e+00\n",
            "Epoch 161/470\n",
            "1/1 [==============================] - 0s 8ms/step - loss: 0.0000e+00\n",
            "Epoch 162/470\n",
            "1/1 [==============================] - 0s 7ms/step - loss: 0.0000e+00\n",
            "Epoch 163/470\n",
            "1/1 [==============================] - 0s 7ms/step - loss: 0.0000e+00\n",
            "Epoch 164/470\n",
            "1/1 [==============================] - 0s 8ms/step - loss: 0.0000e+00\n",
            "Epoch 165/470\n",
            "1/1 [==============================] - 0s 8ms/step - loss: 0.0000e+00\n",
            "Epoch 166/470\n",
            "1/1 [==============================] - 0s 10ms/step - loss: 0.0000e+00\n",
            "Epoch 167/470\n",
            "1/1 [==============================] - 0s 7ms/step - loss: 0.0000e+00\n",
            "Epoch 168/470\n",
            "1/1 [==============================] - 0s 7ms/step - loss: 0.0000e+00\n",
            "Epoch 169/470\n",
            "1/1 [==============================] - 0s 7ms/step - loss: 0.0000e+00\n",
            "Epoch 170/470\n",
            "1/1 [==============================] - 0s 9ms/step - loss: 0.0000e+00\n",
            "Epoch 171/470\n",
            "1/1 [==============================] - 0s 7ms/step - loss: 0.0000e+00\n",
            "Epoch 172/470\n",
            "1/1 [==============================] - 0s 7ms/step - loss: 0.0000e+00\n",
            "Epoch 173/470\n",
            "1/1 [==============================] - 0s 6ms/step - loss: 0.0000e+00\n",
            "Epoch 174/470\n",
            "1/1 [==============================] - 0s 6ms/step - loss: 0.0000e+00\n",
            "Epoch 175/470\n",
            "1/1 [==============================] - 0s 6ms/step - loss: 0.0000e+00\n",
            "Epoch 176/470\n",
            "1/1 [==============================] - 0s 5ms/step - loss: 0.0000e+00\n",
            "Epoch 177/470\n",
            "1/1 [==============================] - 0s 6ms/step - loss: 0.0000e+00\n",
            "Epoch 178/470\n",
            "1/1 [==============================] - 0s 7ms/step - loss: 0.0000e+00\n",
            "Epoch 179/470\n",
            "1/1 [==============================] - 0s 7ms/step - loss: 0.0000e+00\n",
            "Epoch 180/470\n",
            "1/1 [==============================] - 0s 7ms/step - loss: 0.0000e+00\n",
            "Epoch 181/470\n",
            "1/1 [==============================] - 0s 7ms/step - loss: 0.0000e+00\n",
            "Epoch 182/470\n",
            "1/1 [==============================] - 0s 7ms/step - loss: 0.0000e+00\n",
            "Epoch 183/470\n",
            "1/1 [==============================] - 0s 8ms/step - loss: 0.0000e+00\n",
            "Epoch 184/470\n",
            "1/1 [==============================] - 0s 6ms/step - loss: 0.0000e+00\n",
            "Epoch 185/470\n",
            "1/1 [==============================] - 0s 6ms/step - loss: 0.0000e+00\n",
            "Epoch 186/470\n",
            "1/1 [==============================] - 0s 7ms/step - loss: 0.0000e+00\n",
            "Epoch 187/470\n",
            "1/1 [==============================] - 0s 7ms/step - loss: 0.0000e+00\n",
            "Epoch 188/470\n",
            "1/1 [==============================] - 0s 7ms/step - loss: 0.0000e+00\n",
            "Epoch 189/470\n",
            "1/1 [==============================] - 0s 7ms/step - loss: 0.0000e+00\n",
            "Epoch 190/470\n",
            "1/1 [==============================] - 0s 8ms/step - loss: 0.0000e+00\n",
            "Epoch 191/470\n",
            "1/1 [==============================] - 0s 6ms/step - loss: 0.0000e+00\n",
            "Epoch 192/470\n",
            "1/1 [==============================] - 0s 6ms/step - loss: 0.0000e+00\n",
            "Epoch 193/470\n",
            "1/1 [==============================] - 0s 7ms/step - loss: 0.0000e+00\n",
            "Epoch 194/470\n",
            "1/1 [==============================] - 0s 7ms/step - loss: 0.0000e+00\n",
            "Epoch 195/470\n",
            "1/1 [==============================] - 0s 6ms/step - loss: 0.0000e+00\n",
            "Epoch 196/470\n",
            "1/1 [==============================] - 0s 6ms/step - loss: 0.0000e+00\n",
            "Epoch 197/470\n",
            "1/1 [==============================] - 0s 7ms/step - loss: 0.0000e+00\n",
            "Epoch 198/470\n",
            "1/1 [==============================] - 0s 7ms/step - loss: 0.0000e+00\n",
            "Epoch 199/470\n",
            "1/1 [==============================] - 0s 6ms/step - loss: 0.0000e+00\n",
            "Epoch 200/470\n",
            "1/1 [==============================] - 0s 11ms/step - loss: 0.0000e+00\n",
            "Epoch 201/470\n",
            "1/1 [==============================] - 0s 12ms/step - loss: 0.0000e+00\n",
            "Epoch 202/470\n",
            "1/1 [==============================] - 0s 15ms/step - loss: 0.0000e+00\n",
            "Epoch 203/470\n",
            "1/1 [==============================] - 0s 6ms/step - loss: 0.0000e+00\n",
            "Epoch 204/470\n",
            "1/1 [==============================] - 0s 7ms/step - loss: 0.0000e+00\n",
            "Epoch 205/470\n",
            "1/1 [==============================] - 0s 10ms/step - loss: 0.0000e+00\n",
            "Epoch 206/470\n",
            "1/1 [==============================] - 0s 6ms/step - loss: 0.0000e+00\n",
            "Epoch 207/470\n",
            "1/1 [==============================] - 0s 6ms/step - loss: 0.0000e+00\n",
            "Epoch 208/470\n",
            "1/1 [==============================] - 0s 8ms/step - loss: 0.0000e+00\n",
            "Epoch 209/470\n",
            "1/1 [==============================] - 0s 6ms/step - loss: 0.0000e+00\n",
            "Epoch 210/470\n",
            "1/1 [==============================] - 0s 6ms/step - loss: 0.0000e+00\n",
            "Epoch 211/470\n",
            "1/1 [==============================] - 0s 6ms/step - loss: 0.0000e+00\n",
            "Epoch 212/470\n",
            "1/1 [==============================] - 0s 7ms/step - loss: 0.0000e+00\n",
            "Epoch 213/470\n",
            "1/1 [==============================] - 0s 6ms/step - loss: 0.0000e+00\n",
            "Epoch 214/470\n",
            "1/1 [==============================] - 0s 7ms/step - loss: 0.0000e+00\n",
            "Epoch 215/470\n",
            "1/1 [==============================] - 0s 7ms/step - loss: 0.0000e+00\n",
            "Epoch 216/470\n",
            "1/1 [==============================] - 0s 6ms/step - loss: 0.0000e+00\n",
            "Epoch 217/470\n",
            "1/1 [==============================] - 0s 8ms/step - loss: 0.0000e+00\n",
            "Epoch 218/470\n",
            "1/1 [==============================] - 0s 7ms/step - loss: 0.0000e+00\n",
            "Epoch 219/470\n",
            "1/1 [==============================] - 0s 9ms/step - loss: 0.0000e+00\n",
            "Epoch 220/470\n",
            "1/1 [==============================] - 0s 8ms/step - loss: 0.0000e+00\n",
            "Epoch 221/470\n",
            "1/1 [==============================] - 0s 8ms/step - loss: 0.0000e+00\n",
            "Epoch 222/470\n",
            "1/1 [==============================] - 0s 9ms/step - loss: 0.0000e+00\n",
            "Epoch 223/470\n",
            "1/1 [==============================] - 0s 12ms/step - loss: 0.0000e+00\n",
            "Epoch 224/470\n",
            "1/1 [==============================] - 0s 8ms/step - loss: 0.0000e+00\n",
            "Epoch 225/470\n",
            "1/1 [==============================] - 0s 10ms/step - loss: 0.0000e+00\n",
            "Epoch 226/470\n",
            "1/1 [==============================] - 0s 10ms/step - loss: 0.0000e+00\n",
            "Epoch 227/470\n",
            "1/1 [==============================] - 0s 7ms/step - loss: 0.0000e+00\n",
            "Epoch 228/470\n",
            "1/1 [==============================] - 0s 12ms/step - loss: 0.0000e+00\n",
            "Epoch 229/470\n",
            "1/1 [==============================] - 0s 6ms/step - loss: 0.0000e+00\n",
            "Epoch 230/470\n",
            "1/1 [==============================] - 0s 7ms/step - loss: 0.0000e+00\n",
            "Epoch 231/470\n",
            "1/1 [==============================] - 0s 7ms/step - loss: 0.0000e+00\n",
            "Epoch 232/470\n",
            "1/1 [==============================] - 0s 6ms/step - loss: 0.0000e+00\n",
            "Epoch 233/470\n",
            "1/1 [==============================] - 0s 6ms/step - loss: 0.0000e+00\n",
            "Epoch 234/470\n",
            "1/1 [==============================] - 0s 7ms/step - loss: 0.0000e+00\n",
            "Epoch 235/470\n",
            "1/1 [==============================] - 0s 6ms/step - loss: 0.0000e+00\n",
            "Epoch 236/470\n",
            "1/1 [==============================] - 0s 6ms/step - loss: 0.0000e+00\n",
            "Epoch 237/470\n",
            "1/1 [==============================] - 0s 6ms/step - loss: 0.0000e+00\n",
            "Epoch 238/470\n",
            "1/1 [==============================] - 0s 6ms/step - loss: 0.0000e+00\n",
            "Epoch 239/470\n",
            "1/1 [==============================] - 0s 8ms/step - loss: 0.0000e+00\n",
            "Epoch 240/470\n",
            "1/1 [==============================] - 0s 6ms/step - loss: 0.0000e+00\n",
            "Epoch 241/470\n",
            "1/1 [==============================] - 0s 6ms/step - loss: 0.0000e+00\n",
            "Epoch 242/470\n",
            "1/1 [==============================] - 0s 6ms/step - loss: 0.0000e+00\n",
            "Epoch 243/470\n",
            "1/1 [==============================] - 0s 6ms/step - loss: 0.0000e+00\n",
            "Epoch 244/470\n",
            "1/1 [==============================] - 0s 6ms/step - loss: 0.0000e+00\n",
            "Epoch 245/470\n",
            "1/1 [==============================] - 0s 6ms/step - loss: 0.0000e+00\n",
            "Epoch 246/470\n",
            "1/1 [==============================] - 0s 6ms/step - loss: 0.0000e+00\n",
            "Epoch 247/470\n",
            "1/1 [==============================] - 0s 7ms/step - loss: 0.0000e+00\n",
            "Epoch 248/470\n",
            "1/1 [==============================] - 0s 6ms/step - loss: 0.0000e+00\n",
            "Epoch 249/470\n",
            "1/1 [==============================] - 0s 6ms/step - loss: 0.0000e+00\n",
            "Epoch 250/470\n",
            "1/1 [==============================] - 0s 7ms/step - loss: 0.0000e+00\n",
            "Epoch 251/470\n",
            "1/1 [==============================] - 0s 6ms/step - loss: 0.0000e+00\n",
            "Epoch 252/470\n",
            "1/1 [==============================] - 0s 7ms/step - loss: 0.0000e+00\n",
            "Epoch 253/470\n",
            "1/1 [==============================] - 0s 6ms/step - loss: 0.0000e+00\n",
            "Epoch 254/470\n",
            "1/1 [==============================] - 0s 6ms/step - loss: 0.0000e+00\n",
            "Epoch 255/470\n",
            "1/1 [==============================] - 0s 6ms/step - loss: 0.0000e+00\n",
            "Epoch 256/470\n",
            "1/1 [==============================] - 0s 7ms/step - loss: 0.0000e+00\n",
            "Epoch 257/470\n",
            "1/1 [==============================] - 0s 6ms/step - loss: 0.0000e+00\n",
            "Epoch 258/470\n",
            "1/1 [==============================] - 0s 7ms/step - loss: 0.0000e+00\n",
            "Epoch 259/470\n",
            "1/1 [==============================] - 0s 7ms/step - loss: 0.0000e+00\n",
            "Epoch 260/470\n",
            "1/1 [==============================] - 0s 7ms/step - loss: 0.0000e+00\n",
            "Epoch 261/470\n",
            "1/1 [==============================] - 0s 7ms/step - loss: 0.0000e+00\n",
            "Epoch 262/470\n",
            "1/1 [==============================] - 0s 6ms/step - loss: 0.0000e+00\n",
            "Epoch 263/470\n",
            "1/1 [==============================] - 0s 6ms/step - loss: 0.0000e+00\n",
            "Epoch 264/470\n",
            "1/1 [==============================] - 0s 6ms/step - loss: 0.0000e+00\n",
            "Epoch 265/470\n",
            "1/1 [==============================] - 0s 6ms/step - loss: 0.0000e+00\n",
            "Epoch 266/470\n",
            "1/1 [==============================] - 0s 6ms/step - loss: 0.0000e+00\n",
            "Epoch 267/470\n",
            "1/1 [==============================] - 0s 6ms/step - loss: 0.0000e+00\n",
            "Epoch 268/470\n",
            "1/1 [==============================] - 0s 6ms/step - loss: 0.0000e+00\n",
            "Epoch 269/470\n",
            "1/1 [==============================] - 0s 7ms/step - loss: 0.0000e+00\n",
            "Epoch 270/470\n",
            "1/1 [==============================] - 0s 6ms/step - loss: 0.0000e+00\n",
            "Epoch 271/470\n",
            "1/1 [==============================] - 0s 6ms/step - loss: 0.0000e+00\n",
            "Epoch 272/470\n",
            "1/1 [==============================] - 0s 7ms/step - loss: 0.0000e+00\n",
            "Epoch 273/470\n",
            "1/1 [==============================] - 0s 6ms/step - loss: 0.0000e+00\n",
            "Epoch 274/470\n",
            "1/1 [==============================] - 0s 6ms/step - loss: 0.0000e+00\n",
            "Epoch 275/470\n",
            "1/1 [==============================] - 0s 6ms/step - loss: 0.0000e+00\n",
            "Epoch 276/470\n",
            "1/1 [==============================] - 0s 6ms/step - loss: 0.0000e+00\n",
            "Epoch 277/470\n",
            "1/1 [==============================] - 0s 5ms/step - loss: 0.0000e+00\n",
            "Epoch 278/470\n",
            "1/1 [==============================] - 0s 6ms/step - loss: 0.0000e+00\n",
            "Epoch 279/470\n",
            "1/1 [==============================] - 0s 6ms/step - loss: 0.0000e+00\n",
            "Epoch 280/470\n",
            "1/1 [==============================] - 0s 6ms/step - loss: 0.0000e+00\n",
            "Epoch 281/470\n",
            "1/1 [==============================] - 0s 6ms/step - loss: 0.0000e+00\n",
            "Epoch 282/470\n",
            "1/1 [==============================] - 0s 265ms/step - loss: 0.0000e+00\n",
            "Epoch 283/470\n",
            "1/1 [==============================] - 0s 6ms/step - loss: 0.0000e+00\n",
            "Epoch 284/470\n",
            "1/1 [==============================] - 0s 6ms/step - loss: 0.0000e+00\n",
            "Epoch 285/470\n",
            "1/1 [==============================] - 0s 6ms/step - loss: 0.0000e+00\n",
            "Epoch 286/470\n",
            "1/1 [==============================] - 0s 6ms/step - loss: 0.0000e+00\n",
            "Epoch 287/470\n",
            "1/1 [==============================] - 0s 6ms/step - loss: 0.0000e+00\n",
            "Epoch 288/470\n",
            "1/1 [==============================] - 0s 6ms/step - loss: 0.0000e+00\n",
            "Epoch 289/470\n",
            "1/1 [==============================] - 0s 7ms/step - loss: 0.0000e+00\n",
            "Epoch 290/470\n",
            "1/1 [==============================] - 0s 6ms/step - loss: 0.0000e+00\n",
            "Epoch 291/470\n",
            "1/1 [==============================] - 0s 6ms/step - loss: 0.0000e+00\n",
            "Epoch 292/470\n",
            "1/1 [==============================] - 0s 7ms/step - loss: 0.0000e+00\n",
            "Epoch 293/470\n",
            "1/1 [==============================] - 0s 6ms/step - loss: 0.0000e+00\n",
            "Epoch 294/470\n",
            "1/1 [==============================] - 0s 6ms/step - loss: 0.0000e+00\n",
            "Epoch 295/470\n",
            "1/1 [==============================] - 0s 6ms/step - loss: 0.0000e+00\n",
            "Epoch 296/470\n",
            "1/1 [==============================] - 0s 7ms/step - loss: 0.0000e+00\n",
            "Epoch 297/470\n",
            "1/1 [==============================] - 0s 6ms/step - loss: 0.0000e+00\n",
            "Epoch 298/470\n",
            "1/1 [==============================] - 0s 6ms/step - loss: 0.0000e+00\n",
            "Epoch 299/470\n",
            "1/1 [==============================] - 0s 6ms/step - loss: 0.0000e+00\n",
            "Epoch 300/470\n",
            "1/1 [==============================] - 0s 6ms/step - loss: 0.0000e+00\n",
            "Epoch 301/470\n",
            "1/1 [==============================] - 0s 6ms/step - loss: 0.0000e+00\n",
            "Epoch 302/470\n",
            "1/1 [==============================] - 0s 8ms/step - loss: 0.0000e+00\n",
            "Epoch 303/470\n",
            "1/1 [==============================] - 0s 6ms/step - loss: 0.0000e+00\n",
            "Epoch 304/470\n",
            "1/1 [==============================] - 0s 11ms/step - loss: 0.0000e+00\n",
            "Epoch 305/470\n",
            "1/1 [==============================] - 0s 7ms/step - loss: 0.0000e+00\n",
            "Epoch 306/470\n",
            "1/1 [==============================] - 0s 6ms/step - loss: 0.0000e+00\n",
            "Epoch 307/470\n",
            "1/1 [==============================] - 0s 6ms/step - loss: 0.0000e+00\n",
            "Epoch 308/470\n",
            "1/1 [==============================] - 0s 6ms/step - loss: 0.0000e+00\n",
            "Epoch 309/470\n",
            "1/1 [==============================] - 0s 11ms/step - loss: 0.0000e+00\n",
            "Epoch 310/470\n",
            "1/1 [==============================] - 0s 11ms/step - loss: 0.0000e+00\n",
            "Epoch 311/470\n",
            "1/1 [==============================] - 0s 8ms/step - loss: 0.0000e+00\n",
            "Epoch 312/470\n",
            "1/1 [==============================] - 0s 10ms/step - loss: 0.0000e+00\n",
            "Epoch 313/470\n",
            "1/1 [==============================] - 0s 6ms/step - loss: 0.0000e+00\n",
            "Epoch 314/470\n",
            "1/1 [==============================] - 0s 6ms/step - loss: 0.0000e+00\n",
            "Epoch 315/470\n",
            "1/1 [==============================] - 0s 6ms/step - loss: 0.0000e+00\n",
            "Epoch 316/470\n",
            "1/1 [==============================] - 0s 6ms/step - loss: 0.0000e+00\n",
            "Epoch 317/470\n",
            "1/1 [==============================] - 0s 6ms/step - loss: 0.0000e+00\n",
            "Epoch 318/470\n",
            "1/1 [==============================] - 0s 6ms/step - loss: 0.0000e+00\n",
            "Epoch 319/470\n",
            "1/1 [==============================] - 0s 6ms/step - loss: 0.0000e+00\n",
            "Epoch 320/470\n",
            "1/1 [==============================] - 0s 11ms/step - loss: 0.0000e+00\n",
            "Epoch 321/470\n",
            "1/1 [==============================] - 0s 7ms/step - loss: 0.0000e+00\n",
            "Epoch 322/470\n",
            "1/1 [==============================] - 0s 13ms/step - loss: 0.0000e+00\n",
            "Epoch 323/470\n",
            "1/1 [==============================] - 0s 7ms/step - loss: 0.0000e+00\n",
            "Epoch 324/470\n",
            "1/1 [==============================] - 0s 8ms/step - loss: 0.0000e+00\n",
            "Epoch 325/470\n",
            "1/1 [==============================] - 0s 9ms/step - loss: 0.0000e+00\n",
            "Epoch 326/470\n",
            "1/1 [==============================] - 0s 11ms/step - loss: 0.0000e+00\n",
            "Epoch 327/470\n",
            "1/1 [==============================] - 0s 6ms/step - loss: 0.0000e+00\n",
            "Epoch 328/470\n",
            "1/1 [==============================] - 0s 6ms/step - loss: 0.0000e+00\n",
            "Epoch 329/470\n",
            "1/1 [==============================] - 0s 6ms/step - loss: 0.0000e+00\n",
            "Epoch 330/470\n",
            "1/1 [==============================] - 0s 6ms/step - loss: 0.0000e+00\n",
            "Epoch 331/470\n",
            "1/1 [==============================] - 0s 5ms/step - loss: 0.0000e+00\n",
            "Epoch 332/470\n",
            "1/1 [==============================] - 0s 6ms/step - loss: 0.0000e+00\n",
            "Epoch 333/470\n",
            "1/1 [==============================] - 0s 6ms/step - loss: 0.0000e+00\n",
            "Epoch 334/470\n",
            "1/1 [==============================] - 0s 7ms/step - loss: 0.0000e+00\n",
            "Epoch 335/470\n",
            "1/1 [==============================] - 0s 6ms/step - loss: 0.0000e+00\n",
            "Epoch 336/470\n",
            "1/1 [==============================] - 0s 6ms/step - loss: 0.0000e+00\n",
            "Epoch 337/470\n",
            "1/1 [==============================] - 0s 6ms/step - loss: 0.0000e+00\n",
            "Epoch 338/470\n",
            "1/1 [==============================] - 0s 6ms/step - loss: 0.0000e+00\n",
            "Epoch 339/470\n",
            "1/1 [==============================] - 0s 6ms/step - loss: 0.0000e+00\n",
            "Epoch 340/470\n",
            "1/1 [==============================] - 0s 6ms/step - loss: 0.0000e+00\n",
            "Epoch 341/470\n",
            "1/1 [==============================] - 0s 6ms/step - loss: 0.0000e+00\n",
            "Epoch 342/470\n",
            "1/1 [==============================] - 0s 6ms/step - loss: 0.0000e+00\n",
            "Epoch 343/470\n",
            "1/1 [==============================] - 0s 6ms/step - loss: 0.0000e+00\n",
            "Epoch 344/470\n",
            "1/1 [==============================] - 0s 6ms/step - loss: 0.0000e+00\n",
            "Epoch 345/470\n",
            "1/1 [==============================] - 0s 6ms/step - loss: 0.0000e+00\n",
            "Epoch 346/470\n",
            "1/1 [==============================] - 0s 6ms/step - loss: 0.0000e+00\n",
            "Epoch 347/470\n",
            "1/1 [==============================] - 0s 6ms/step - loss: 0.0000e+00\n",
            "Epoch 348/470\n",
            "1/1 [==============================] - 0s 6ms/step - loss: 0.0000e+00\n",
            "Epoch 349/470\n",
            "1/1 [==============================] - 0s 5ms/step - loss: 0.0000e+00\n",
            "Epoch 350/470\n",
            "1/1 [==============================] - 0s 6ms/step - loss: 0.0000e+00\n",
            "Epoch 351/470\n",
            "1/1 [==============================] - 0s 7ms/step - loss: 0.0000e+00\n",
            "Epoch 352/470\n",
            "1/1 [==============================] - 0s 6ms/step - loss: 0.0000e+00\n",
            "Epoch 353/470\n",
            "1/1 [==============================] - 0s 5ms/step - loss: 0.0000e+00\n",
            "Epoch 354/470\n",
            "1/1 [==============================] - 0s 7ms/step - loss: 0.0000e+00\n",
            "Epoch 355/470\n",
            "1/1 [==============================] - 0s 6ms/step - loss: 0.0000e+00\n",
            "Epoch 356/470\n",
            "1/1 [==============================] - 0s 6ms/step - loss: 0.0000e+00\n",
            "Epoch 357/470\n",
            "1/1 [==============================] - 0s 6ms/step - loss: 0.0000e+00\n",
            "Epoch 358/470\n",
            "1/1 [==============================] - 0s 6ms/step - loss: 0.0000e+00\n",
            "Epoch 359/470\n",
            "1/1 [==============================] - 0s 6ms/step - loss: 0.0000e+00\n",
            "Epoch 360/470\n",
            "1/1 [==============================] - 0s 6ms/step - loss: 0.0000e+00\n",
            "Epoch 361/470\n",
            "1/1 [==============================] - 0s 6ms/step - loss: 0.0000e+00\n",
            "Epoch 362/470\n",
            "1/1 [==============================] - 0s 7ms/step - loss: 0.0000e+00\n",
            "Epoch 363/470\n",
            "1/1 [==============================] - 0s 6ms/step - loss: 0.0000e+00\n",
            "Epoch 364/470\n",
            "1/1 [==============================] - 0s 6ms/step - loss: 0.0000e+00\n",
            "Epoch 365/470\n",
            "1/1 [==============================] - 0s 246ms/step - loss: 0.0000e+00\n",
            "Epoch 366/470\n",
            "1/1 [==============================] - 0s 6ms/step - loss: 0.0000e+00\n",
            "Epoch 367/470\n",
            "1/1 [==============================] - 0s 6ms/step - loss: 0.0000e+00\n",
            "Epoch 368/470\n",
            "1/1 [==============================] - 0s 5ms/step - loss: 0.0000e+00\n",
            "Epoch 369/470\n",
            "1/1 [==============================] - 0s 6ms/step - loss: 0.0000e+00\n",
            "Epoch 370/470\n",
            "1/1 [==============================] - 0s 5ms/step - loss: 0.0000e+00\n",
            "Epoch 371/470\n",
            "1/1 [==============================] - 0s 5ms/step - loss: 0.0000e+00\n",
            "Epoch 372/470\n",
            "1/1 [==============================] - 0s 6ms/step - loss: 0.0000e+00\n",
            "Epoch 373/470\n",
            "1/1 [==============================] - 0s 6ms/step - loss: 0.0000e+00\n",
            "Epoch 374/470\n",
            "1/1 [==============================] - 0s 12ms/step - loss: 0.0000e+00\n",
            "Epoch 375/470\n",
            "1/1 [==============================] - 0s 13ms/step - loss: 0.0000e+00\n",
            "Epoch 376/470\n",
            "1/1 [==============================] - 0s 13ms/step - loss: 0.0000e+00\n",
            "Epoch 377/470\n",
            "1/1 [==============================] - 0s 10ms/step - loss: 0.0000e+00\n",
            "Epoch 378/470\n",
            "1/1 [==============================] - 0s 7ms/step - loss: 0.0000e+00\n",
            "Epoch 379/470\n",
            "1/1 [==============================] - 0s 8ms/step - loss: 0.0000e+00\n",
            "Epoch 380/470\n",
            "1/1 [==============================] - 0s 12ms/step - loss: 0.0000e+00\n",
            "Epoch 381/470\n",
            "1/1 [==============================] - 0s 11ms/step - loss: 0.0000e+00\n",
            "Epoch 382/470\n",
            "1/1 [==============================] - 0s 8ms/step - loss: 0.0000e+00\n",
            "Epoch 383/470\n",
            "1/1 [==============================] - 0s 13ms/step - loss: 0.0000e+00\n",
            "Epoch 384/470\n",
            "1/1 [==============================] - 0s 13ms/step - loss: 0.0000e+00\n",
            "Epoch 385/470\n",
            "1/1 [==============================] - 0s 12ms/step - loss: 0.0000e+00\n",
            "Epoch 386/470\n",
            "1/1 [==============================] - 0s 11ms/step - loss: 0.0000e+00\n",
            "Epoch 387/470\n",
            "1/1 [==============================] - 0s 12ms/step - loss: 0.0000e+00\n",
            "Epoch 388/470\n",
            "1/1 [==============================] - 0s 9ms/step - loss: 0.0000e+00\n",
            "Epoch 389/470\n",
            "1/1 [==============================] - 0s 12ms/step - loss: 0.0000e+00\n",
            "Epoch 390/470\n",
            "1/1 [==============================] - 0s 10ms/step - loss: 0.0000e+00\n",
            "Epoch 391/470\n",
            "1/1 [==============================] - 0s 6ms/step - loss: 0.0000e+00\n",
            "Epoch 392/470\n",
            "1/1 [==============================] - 0s 9ms/step - loss: 0.0000e+00\n",
            "Epoch 393/470\n",
            "1/1 [==============================] - 0s 6ms/step - loss: 0.0000e+00\n",
            "Epoch 394/470\n",
            "1/1 [==============================] - 0s 6ms/step - loss: 0.0000e+00\n",
            "Epoch 395/470\n",
            "1/1 [==============================] - 0s 6ms/step - loss: 0.0000e+00\n",
            "Epoch 396/470\n",
            "1/1 [==============================] - 0s 6ms/step - loss: 0.0000e+00\n",
            "Epoch 397/470\n",
            "1/1 [==============================] - 0s 6ms/step - loss: 0.0000e+00\n",
            "Epoch 398/470\n",
            "1/1 [==============================] - 0s 6ms/step - loss: 0.0000e+00\n",
            "Epoch 399/470\n",
            "1/1 [==============================] - 0s 6ms/step - loss: 0.0000e+00\n",
            "Epoch 400/470\n",
            "1/1 [==============================] - 0s 6ms/step - loss: 0.0000e+00\n",
            "Epoch 401/470\n",
            "1/1 [==============================] - 0s 6ms/step - loss: 0.0000e+00\n",
            "Epoch 402/470\n",
            "1/1 [==============================] - 0s 6ms/step - loss: 0.0000e+00\n",
            "Epoch 403/470\n",
            "1/1 [==============================] - 0s 6ms/step - loss: 0.0000e+00\n",
            "Epoch 404/470\n",
            "1/1 [==============================] - 0s 6ms/step - loss: 0.0000e+00\n",
            "Epoch 405/470\n",
            "1/1 [==============================] - 0s 6ms/step - loss: 0.0000e+00\n",
            "Epoch 406/470\n",
            "1/1 [==============================] - 0s 6ms/step - loss: 0.0000e+00\n",
            "Epoch 407/470\n",
            "1/1 [==============================] - 0s 6ms/step - loss: 0.0000e+00\n",
            "Epoch 408/470\n",
            "1/1 [==============================] - 0s 6ms/step - loss: 0.0000e+00\n",
            "Epoch 409/470\n",
            "1/1 [==============================] - 0s 6ms/step - loss: 0.0000e+00\n",
            "Epoch 410/470\n",
            "1/1 [==============================] - 0s 5ms/step - loss: 0.0000e+00\n",
            "Epoch 411/470\n",
            "1/1 [==============================] - 0s 6ms/step - loss: 0.0000e+00\n",
            "Epoch 412/470\n",
            "1/1 [==============================] - 0s 6ms/step - loss: 0.0000e+00\n",
            "Epoch 413/470\n",
            "1/1 [==============================] - 0s 6ms/step - loss: 0.0000e+00\n",
            "Epoch 414/470\n",
            "1/1 [==============================] - 0s 6ms/step - loss: 0.0000e+00\n",
            "Epoch 415/470\n",
            "1/1 [==============================] - 0s 8ms/step - loss: 0.0000e+00\n",
            "Epoch 416/470\n",
            "1/1 [==============================] - 0s 5ms/step - loss: 0.0000e+00\n",
            "Epoch 417/470\n",
            "1/1 [==============================] - 0s 6ms/step - loss: 0.0000e+00\n",
            "Epoch 418/470\n",
            "1/1 [==============================] - 0s 6ms/step - loss: 0.0000e+00\n",
            "Epoch 419/470\n",
            "1/1 [==============================] - 0s 6ms/step - loss: 0.0000e+00\n",
            "Epoch 420/470\n",
            "1/1 [==============================] - 0s 6ms/step - loss: 0.0000e+00\n",
            "Epoch 421/470\n",
            "1/1 [==============================] - 0s 6ms/step - loss: 0.0000e+00\n",
            "Epoch 422/470\n",
            "1/1 [==============================] - 0s 6ms/step - loss: 0.0000e+00\n",
            "Epoch 423/470\n",
            "1/1 [==============================] - 0s 16ms/step - loss: 0.0000e+00\n",
            "Epoch 424/470\n",
            "1/1 [==============================] - 0s 11ms/step - loss: 0.0000e+00\n",
            "Epoch 425/470\n",
            "1/1 [==============================] - 0s 6ms/step - loss: 0.0000e+00\n",
            "Epoch 426/470\n",
            "1/1 [==============================] - 0s 7ms/step - loss: 0.0000e+00\n",
            "Epoch 427/470\n",
            "1/1 [==============================] - 0s 6ms/step - loss: 0.0000e+00\n",
            "Epoch 428/470\n",
            "1/1 [==============================] - 0s 7ms/step - loss: 0.0000e+00\n",
            "Epoch 429/470\n",
            "1/1 [==============================] - 0s 8ms/step - loss: 0.0000e+00\n",
            "Epoch 430/470\n",
            "1/1 [==============================] - 0s 6ms/step - loss: 0.0000e+00\n",
            "Epoch 431/470\n",
            "1/1 [==============================] - 0s 9ms/step - loss: 0.0000e+00\n",
            "Epoch 432/470\n",
            "1/1 [==============================] - 0s 8ms/step - loss: 0.0000e+00\n",
            "Epoch 433/470\n",
            "1/1 [==============================] - 0s 9ms/step - loss: 0.0000e+00\n",
            "Epoch 434/470\n",
            "1/1 [==============================] - 0s 7ms/step - loss: 0.0000e+00\n",
            "Epoch 435/470\n",
            "1/1 [==============================] - 0s 7ms/step - loss: 0.0000e+00\n",
            "Epoch 436/470\n",
            "1/1 [==============================] - 0s 5ms/step - loss: 0.0000e+00\n",
            "Epoch 437/470\n",
            "1/1 [==============================] - 0s 6ms/step - loss: 0.0000e+00\n",
            "Epoch 438/470\n",
            "1/1 [==============================] - 0s 6ms/step - loss: 0.0000e+00\n",
            "Epoch 439/470\n",
            "1/1 [==============================] - 0s 7ms/step - loss: 0.0000e+00\n",
            "Epoch 440/470\n",
            "1/1 [==============================] - 0s 7ms/step - loss: 0.0000e+00\n",
            "Epoch 441/470\n",
            "1/1 [==============================] - 0s 6ms/step - loss: 0.0000e+00\n",
            "Epoch 442/470\n",
            "1/1 [==============================] - 0s 6ms/step - loss: 0.0000e+00\n",
            "Epoch 443/470\n",
            "1/1 [==============================] - 0s 6ms/step - loss: 0.0000e+00\n",
            "Epoch 444/470\n",
            "1/1 [==============================] - 0s 6ms/step - loss: 0.0000e+00\n",
            "Epoch 445/470\n",
            "1/1 [==============================] - 0s 5ms/step - loss: 0.0000e+00\n",
            "Epoch 446/470\n",
            "1/1 [==============================] - 0s 7ms/step - loss: 0.0000e+00\n",
            "Epoch 447/470\n",
            "1/1 [==============================] - 0s 7ms/step - loss: 0.0000e+00\n",
            "Epoch 448/470\n",
            "1/1 [==============================] - 0s 7ms/step - loss: 0.0000e+00\n",
            "Epoch 449/470\n",
            "1/1 [==============================] - 0s 9ms/step - loss: 0.0000e+00\n",
            "Epoch 450/470\n",
            "1/1 [==============================] - 0s 11ms/step - loss: 0.0000e+00\n",
            "Epoch 451/470\n",
            "1/1 [==============================] - 0s 12ms/step - loss: 0.0000e+00\n",
            "Epoch 452/470\n",
            "1/1 [==============================] - 0s 9ms/step - loss: 0.0000e+00\n",
            "Epoch 453/470\n",
            "1/1 [==============================] - 0s 6ms/step - loss: 0.0000e+00\n",
            "Epoch 454/470\n",
            "1/1 [==============================] - 0s 11ms/step - loss: 0.0000e+00\n",
            "Epoch 455/470\n",
            "1/1 [==============================] - 0s 14ms/step - loss: 0.0000e+00\n",
            "Epoch 456/470\n",
            "1/1 [==============================] - 0s 10ms/step - loss: 0.0000e+00\n",
            "Epoch 457/470\n",
            "1/1 [==============================] - 0s 10ms/step - loss: 0.0000e+00\n",
            "Epoch 458/470\n",
            "1/1 [==============================] - 0s 10ms/step - loss: 0.0000e+00\n",
            "Epoch 459/470\n",
            "1/1 [==============================] - 0s 13ms/step - loss: 0.0000e+00\n",
            "Epoch 460/470\n",
            "1/1 [==============================] - 0s 9ms/step - loss: 0.0000e+00\n",
            "Epoch 461/470\n",
            "1/1 [==============================] - 0s 10ms/step - loss: 0.0000e+00\n",
            "Epoch 462/470\n",
            "1/1 [==============================] - 0s 10ms/step - loss: 0.0000e+00\n",
            "Epoch 463/470\n",
            "1/1 [==============================] - 0s 13ms/step - loss: 0.0000e+00\n",
            "Epoch 464/470\n",
            "1/1 [==============================] - 0s 13ms/step - loss: 0.0000e+00\n",
            "Epoch 465/470\n",
            "1/1 [==============================] - 0s 14ms/step - loss: 0.0000e+00\n",
            "Epoch 466/470\n",
            "1/1 [==============================] - 0s 12ms/step - loss: 0.0000e+00\n",
            "Epoch 467/470\n",
            "1/1 [==============================] - 0s 10ms/step - loss: 0.0000e+00\n",
            "Epoch 468/470\n",
            "1/1 [==============================] - 0s 8ms/step - loss: 0.0000e+00\n",
            "Epoch 469/470\n",
            "1/1 [==============================] - 0s 9ms/step - loss: 0.0000e+00\n",
            "Epoch 470/470\n",
            "1/1 [==============================] - 0s 12ms/step - loss: 0.0000e+00\n"
          ]
        }
      ]
    },
    {
      "cell_type": "code",
      "source": [
        "#pobrar nuestra IA\n",
        "resp = modelo.predict([-400])\n",
        "print(resp)"
      ],
      "metadata": {
        "id": "G21s7p7UD23D",
        "outputId": "ede94ce2-3e8b-4962-9fd0-0b7d0c93448b",
        "colab": {
          "base_uri": "https://localhost:8080/"
        }
      },
      "execution_count": 91,
      "outputs": [
        {
          "output_type": "stream",
          "name": "stdout",
          "text": [
            "[[-126.850006]]\n"
          ]
        }
      ]
    },
    {
      "cell_type": "code",
      "source": [],
      "metadata": {
        "id": "sNetyEToFrJw"
      },
      "execution_count": null,
      "outputs": []
    }
  ]
}