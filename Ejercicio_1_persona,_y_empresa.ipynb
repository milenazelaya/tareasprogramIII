{
  "nbformat": 4,
  "nbformat_minor": 0,
  "metadata": {
    "colab": {
      "name": "Ejercicio 1 persona, y empresa",
      "provenance": [],
      "authorship_tag": "ABX9TyNPTyJRLj7hJvS8GjlIHlB5",
      "include_colab_link": true
    },
    "kernelspec": {
      "name": "python3",
      "display_name": "Python 3"
    },
    "language_info": {
      "name": "python"
    }
  },
  "cells": [
    {
      "cell_type": "markdown",
      "metadata": {
        "id": "view-in-github",
        "colab_type": "text"
      },
      "source": [
        "<a href=\"https://colab.research.google.com/github/milenazelaya/tareasprogramIII/blob/main/Ejercicio_1_persona%2C_y_empresa.ipynb\" target=\"_parent\"><img src=\"https://colab.research.google.com/assets/colab-badge.svg\" alt=\"Open In Colab\"/></a>"
      ]
    },
    {
      "cell_type": "markdown",
      "source": [
        "PARA PERSONA"
      ],
      "metadata": {
        "id": "bCpXa6eAqEHM"
      }
    },
    {
      "cell_type": "code",
      "execution_count": null,
      "metadata": {
        "id": "jeRnvwfih26D"
      },
      "outputs": [],
      "source": [
        "sueldo= float(input(\"Escriba su sueldo:\"))\n",
        "deducciones=[3,6,30,100,10,20,30]\n",
        "\n",
        "ISSS=(sueldo*deducciones[0])/100\n",
        "AFP=(sueldo*deducciones[1])/100\n",
        "VACACIONES=(sueldo*deducciones[2])/100\n",
        "AGUINALDO=(sueldo*deducciones[3])/100\n",
        "IRSTRAMOI=(sueldo*deducciones[4])/100\n",
        "IRSTRAMOII=(sueldo*deducciones[5])/100\n",
        "IRSTRAMOIII=(sueldo*deducciones[6])/100\n",
        "\n",
        "\n",
        "totaldescuentos= ISSS+AFP+VACACIONES+AGUINALDO+IRSTRAMOI+IRSTRAMOII+IRSTRAMOIII\n",
        "#Total=sueldo-totaldescuentos\n",
        "\n",
        "\n",
        "if sueldo<=472.00:\n",
        "    print(\"**Deducciones**\")\n",
        "    print(\"ISSS:\",ISSS)\n",
        "    print(\"AFP:\",AFP)\n",
        "    print(\"VACACIONES:\",VACACIONES)\n",
        "    print(\"AGUINALDO:\",AGUINALDO)\n",
        "    print(\"su salario es:\",totaldescuentos-sueldo)\n",
        "    print(\"ISR: 0.00\")\n",
        "    \n",
        "elif sueldo<=895.24:\n",
        "    totaldescuentos= ISSS+AFP+VACACIONES+AGUINALDO+IRSTRAMOI\n",
        "    salario_sobre_renta = (sueldo-IRSTRAMOI)\n",
        "    print(\"**Deducciones**\")\n",
        "    print(\"ISSS:\",ISSS)\n",
        "    print(\"AFP:\",AFP)\n",
        "    print(\"VACACIONES:\",VACACIONES)\n",
        "    print(\"AGUINALDO:\",AGUINALDO)\n",
        "    print(\"su salario es:\",totaldescuentos-sueldo)\n",
        "    print(\"ISR:\",IRSTRAMOI)\n",
        "    \n",
        "elif sueldo<=2038.10:\n",
        "    totaldescuentos= ISSS+AFP+VACACIONES+AGUINALDO+IRSTRAMOII\n",
        "    salario_sobre_renta = (sueldo-IRSTRAMOII)\n",
        "    print(\"**Deducciones**\")\n",
        "    print(\"ISSS:\",ISSS)\n",
        "    print(\"AFP:\",AFP)\n",
        "    print(\"VACACIONES:\",VACACIONES)\n",
        "    print(\"AGUINALDO:\",AGUINALDO)\n",
        "    print(\"su salario es:\",totaldescuentos-sueldo)\n",
        "    print(\"ISR:\",IRSTRAMOII)\n",
        "\n",
        "elif sueldo>2038.10:\n",
        "    totaldescuentos= ISSS+AFP+VACACIONES+AGUINALDO+IRSTRAMOIII\n",
        "    salario_sobre_renta = (sueldo-IRSTRAMOII)\n",
        "    print(\"**Deducciones**\")\n",
        "    print(\"ISSS:\",ISSS)\n",
        "    print(\"AFP:\",AFP)\n",
        "    print(\"VACACIONES:\",VACACIONES)\n",
        "    print(\"AGUINALDO:\",AGUINALDO)\n",
        "    print(\"su salario es:\",totaldescuentos-sueldo)\n",
        "    print(\"ISR:\",IRSTRAMOIII)\n",
        "    \n",
        "else:\n",
        "    print(\"libre de impuestos\")\n",
        "\n",
        "\n",
        "    \n",
        "\n",
        "\n",
        "\n",
        "   "
      ]
    },
    {
      "cell_type": "markdown",
      "source": [
        "PARA EMPRESA"
      ],
      "metadata": {
        "id": "1fdG5g4kqIw0"
      }
    },
    {
      "cell_type": "code",
      "source": [
        "sueldo= float(input(\"Escriba su sueldo:\"))\n",
        "deducciones=[7.5,7.75,30,150,10,20,30]\n",
        "\n",
        "ISSS=(sueldo*deducciones[0])/100\n",
        "AFP=(sueldo*deducciones[1])/100\n",
        "VACACIONES=(sueldo*deducciones[2])/100\n",
        "AGUINALDO=(sueldo*deducciones[3])/100\n",
        "IRSTRAMOI=(sueldo*deducciones[4])/100\n",
        "IRSTRAMOII=(sueldo*deducciones[5])/100\n",
        "IRSTRAMOIII=(sueldo*deducciones[6])/100\n",
        "\n",
        "\n",
        "totaldescuentos= ISSS+AFP+VACACIONES+AGUINALDO+IRSTRAMOI+IRSTRAMOII+IRSTRAMOIII\n",
        "#Total=sueldo-totaldescuentos\n",
        "\n",
        "\n",
        "if sueldo<=472.00:\n",
        "    print(\"**Deducciones**\")\n",
        "    print(\"ISSS:\",ISSS)\n",
        "    print(\"AFP:\",AFP)\n",
        "    print(\"VACACIONES:\",VACACIONES)\n",
        "    print(\"AGUINALDO:\",AGUINALDO)\n",
        "    print(\"su salario es:\",totaldescuentos-sueldo)\n",
        "    print(\"ISR: 0.00\")\n",
        "    \n",
        "elif sueldo<=895.24:\n",
        "    totaldescuentos= ISSS+AFP+VACACIONES+AGUINALDO+IRSTRAMOI\n",
        "    salario_sobre_renta = (sueldo-IRSTRAMOI)\n",
        "    print(\"**Deducciones**\")\n",
        "    print(\"ISSS:\",ISSS)\n",
        "    print(\"AFP:\",AFP)\n",
        "    print(\"VACACIONES:\",VACACIONES)\n",
        "    print(\"AGUINALDO:\",AGUINALDO)\n",
        "    print(\"su salario es:\",totaldescuentos-sueldo)\n",
        "    print(\"ISR:\",IRSTRAMOI)\n",
        "    \n",
        "elif sueldo<=2038.10:\n",
        "    totaldescuentos= ISSS+AFP+VACACIONES+AGUINALDO+IRSTRAMOII\n",
        "    salario_sobre_renta = (sueldo-IRSTRAMOII)\n",
        "    print(\"**Deducciones**\")\n",
        "    print(\"ISSS:\",ISSS)\n",
        "    print(\"AFP:\",AFP)\n",
        "    print(\"VACACIONES:\",VACACIONES)\n",
        "    print(\"AGUINALDO:\",AGUINALDO)\n",
        "    print(\"su salario es:\",totaldescuentos-sueldo)\n",
        "    print(\"ISR:\",IRSTRAMOII)\n",
        "\n",
        "elif sueldo>2038.10:\n",
        "    totaldescuentos= ISSS+AFP+VACACIONES+AGUINALDO+IRSTRAMOIII\n",
        "    salario_sobre_renta = (sueldo-IRSTRAMOII)\n",
        "    print(\"**Deducciones**\")\n",
        "    print(\"ISSS:\",ISSS)\n",
        "    print(\"AFP:\",AFP)\n",
        "    print(\"VACACIONES:\",VACACIONES)\n",
        "    print(\"AGUINALDO:\",AGUINALDO)\n",
        "    print(\"su salario es:\",totaldescuentos-sueldo)\n",
        "    print(\"ISR:\",IRSTRAMOIII)\n",
        "    \n",
        "else:\n",
        "    print(\"libre de impuestos\")"
      ],
      "metadata": {
        "id": "ZEbHGWoJkxdY"
      },
      "execution_count": null,
      "outputs": []
    }
  ]
}